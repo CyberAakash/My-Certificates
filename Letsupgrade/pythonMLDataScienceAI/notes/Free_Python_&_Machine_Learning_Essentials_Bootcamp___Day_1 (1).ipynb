{
  "nbformat": 4,
  "nbformat_minor": 0,
  "metadata": {
    "colab": {
      "name": "Free Python & Machine Learning Essentials Bootcamp | Day 1.ipynb",
      "provenance": [],
      "collapsed_sections": []
    },
    "kernelspec": {
      "name": "python3",
      "display_name": "Python 3"
    },
    "language_info": {
      "name": "python"
    }
  },
  "cells": [
    {
      "cell_type": "markdown",
      "source": [
        "#What is python"
      ],
      "metadata": {
        "id": "ZwL1a4ceMO6Y"
      }
    },
    {
      "cell_type": "markdown",
      "source": [
        "Python is a computer programming language often used to build websites and software, automate tasks, and conduct data analysis. Python is a general-purpose language, meaning it can be used to create a variety of different programs and isn't specialized for any specific problems."
      ],
      "metadata": {
        "id": "w1zfsB8uMRwJ"
      }
    },
    {
      "cell_type": "markdown",
      "source": [
        "#Python Variables"
      ],
      "metadata": {
        "id": "4u7rOsS8W3qI"
      }
    },
    {
      "cell_type": "markdown",
      "source": [
        "Variables are containers for storing data values."
      ],
      "metadata": {
        "id": "ncgOZF2iW8WI"
      }
    },
    {
      "cell_type": "code",
      "source": [
        "a = 10"
      ],
      "metadata": {
        "id": "lTbp0biA5Zog"
      },
      "execution_count": null,
      "outputs": []
    },
    {
      "cell_type": "code",
      "source": [
        "a"
      ],
      "metadata": {
        "colab": {
          "base_uri": "https://localhost:8080/"
        },
        "id": "OBw-d_ex5dth",
        "outputId": "58f3f2c4-1f3f-4382-cb4e-a2a686d4d647"
      },
      "execution_count": null,
      "outputs": [
        {
          "output_type": "execute_result",
          "data": {
            "text/plain": [
              "10"
            ]
          },
          "metadata": {},
          "execution_count": 157
        }
      ]
    },
    {
      "cell_type": "markdown",
      "source": [
        "#Python Operators"
      ],
      "metadata": {
        "id": "L9JLeeOrMlI2"
      }
    },
    {
      "cell_type": "markdown",
      "source": [
        "Operators are used to perform operations on variables and values."
      ],
      "metadata": {
        "id": "0nnt702UMqV6"
      }
    },
    {
      "cell_type": "markdown",
      "source": [
        "**+\t      Addition --------------\tx + y**\n",
        "\n",
        "**-\t      Subtraction\t----------- x - y**\n",
        "\n",
        "***\t      Multiplication -------- x * y**\n",
        "\n",
        "**/\t      Division -------------- x / y**\n",
        "\n",
        "**%\t      Modulus --------------- x % y**\t\n",
        "\n",
        "****\t      Exponentiation --------\tx ** y**\n",
        "\n",
        "**//\t      Floor division -------- x // y**"
      ],
      "metadata": {
        "id": "HG-AJKRAOBhJ"
      }
    },
    {
      "cell_type": "markdown",
      "source": [
        "#Python Arithmetic Operators"
      ],
      "metadata": {
        "id": "tu3Tcp51RzJp"
      }
    },
    {
      "cell_type": "markdown",
      "source": [
        "**Addition**\n"
      ],
      "metadata": {
        "id": "_oLkSXjgO4vx"
      }
    },
    {
      "cell_type": "code",
      "execution_count": null,
      "metadata": {
        "colab": {
          "base_uri": "https://localhost:8080/"
        },
        "id": "3L2z-GaFLszQ",
        "outputId": "e7e71728-4845-4fd9-b1b1-8e832e36a9f9"
      },
      "outputs": [
        {
          "output_type": "stream",
          "name": "stdout",
          "text": [
            "15\n"
          ]
        }
      ],
      "source": [
        "print(10 + 5)"
      ]
    },
    {
      "cell_type": "markdown",
      "source": [
        "**Subtraction**"
      ],
      "metadata": {
        "id": "GjPmx-IwQA7U"
      }
    },
    {
      "cell_type": "code",
      "source": [
        "print(10 - 5)"
      ],
      "metadata": {
        "colab": {
          "base_uri": "https://localhost:8080/"
        },
        "id": "bYYKVGvWO2Vr",
        "outputId": "3f14c63e-6a1a-4ab4-90a9-d4e3c4d74bac"
      },
      "execution_count": null,
      "outputs": [
        {
          "output_type": "stream",
          "name": "stdout",
          "text": [
            "5\n"
          ]
        }
      ]
    },
    {
      "cell_type": "markdown",
      "source": [
        " **Multiplication**"
      ],
      "metadata": {
        "id": "023uWc-gQCmW"
      }
    },
    {
      "cell_type": "code",
      "source": [
        "print(10 * 5)"
      ],
      "metadata": {
        "colab": {
          "base_uri": "https://localhost:8080/"
        },
        "id": "60UH1VfjPBw2",
        "outputId": "ce41d9a9-11aa-4ad0-9ec3-13da0d0f4039"
      },
      "execution_count": null,
      "outputs": [
        {
          "output_type": "stream",
          "name": "stdout",
          "text": [
            "50\n"
          ]
        }
      ]
    },
    {
      "cell_type": "markdown",
      "source": [
        "**Division**"
      ],
      "metadata": {
        "id": "Axdu_zW7QE1K"
      }
    },
    {
      "cell_type": "code",
      "source": [
        "print(10 / 5)"
      ],
      "metadata": {
        "colab": {
          "base_uri": "https://localhost:8080/"
        },
        "id": "XcuEKTeYPHN2",
        "outputId": "ffcd00f3-3d99-4b3d-9b04-9794bcbf6a0f"
      },
      "execution_count": null,
      "outputs": [
        {
          "output_type": "stream",
          "name": "stdout",
          "text": [
            "2.0\n"
          ]
        }
      ]
    },
    {
      "cell_type": "markdown",
      "source": [
        "**Modulus**"
      ],
      "metadata": {
        "id": "bAOprJFJQHkS"
      }
    },
    {
      "cell_type": "code",
      "source": [
        "print( 4 % 3)"
      ],
      "metadata": {
        "colab": {
          "base_uri": "https://localhost:8080/"
        },
        "id": "vEb5Fez6PL0p",
        "outputId": "a7b8a4ad-fa13-4118-b590-ed7c2446a4ff"
      },
      "execution_count": null,
      "outputs": [
        {
          "output_type": "stream",
          "name": "stdout",
          "text": [
            "1\n"
          ]
        }
      ]
    },
    {
      "cell_type": "markdown",
      "source": [
        "***Exponentiation***"
      ],
      "metadata": {
        "id": "x9AzFuaiQJIx"
      }
    },
    {
      "cell_type": "code",
      "source": [
        "print(2 ** 3)"
      ],
      "metadata": {
        "colab": {
          "base_uri": "https://localhost:8080/"
        },
        "id": "EViC05yIPwM8",
        "outputId": "6bb4a7d7-aaa8-4c6d-87cc-4efc3bdf8b3e"
      },
      "execution_count": null,
      "outputs": [
        {
          "output_type": "stream",
          "name": "stdout",
          "text": [
            "8\n"
          ]
        }
      ]
    },
    {
      "cell_type": "markdown",
      "source": [
        "**Floor division**"
      ],
      "metadata": {
        "id": "yvzCwv-zQLxA"
      }
    },
    {
      "cell_type": "code",
      "source": [
        "print( 4 / 3)"
      ],
      "metadata": {
        "colab": {
          "base_uri": "https://localhost:8080/"
        },
        "id": "bxZpMTtFP4ov",
        "outputId": "9753d278-d5d2-4ff5-9ed5-74f9521d173c"
      },
      "execution_count": null,
      "outputs": [
        {
          "output_type": "stream",
          "name": "stdout",
          "text": [
            "1.3333333333333333\n"
          ]
        }
      ]
    },
    {
      "cell_type": "code",
      "source": [
        "print(10 // 3)"
      ],
      "metadata": {
        "colab": {
          "base_uri": "https://localhost:8080/"
        },
        "id": "uA4F2rRgP8m5",
        "outputId": "928a8279-52c7-4e41-f77d-a8053640ab8c"
      },
      "execution_count": null,
      "outputs": [
        {
          "output_type": "stream",
          "name": "stdout",
          "text": [
            "3\n"
          ]
        }
      ]
    },
    {
      "cell_type": "markdown",
      "source": [
        "#Python Assignment Operators"
      ],
      "metadata": {
        "id": "DMwUOJ-8R2dE"
      }
    },
    {
      "cell_type": "markdown",
      "source": [
        "**=\t-------- x = 5\tx = 5**\n",
        "\n",
        "**+= -------- x += 3\tx = x + 3**\n",
        "\n",
        "**-= -------- x -= 3\tx = x - 3**\n",
        "\n",
        "***= -------- x *= 3\tx = x * 3**\n",
        "\n",
        "**/= -------- x /= 3\tx = x / 3**\n",
        "\n",
        "**%= -------- x %= 3\tx = x % 3**"
      ],
      "metadata": {
        "id": "gGcy1i-CR-8t"
      }
    },
    {
      "cell_type": "code",
      "source": [
        ""
      ],
      "metadata": {
        "id": "2sSPeO0Y7K7x"
      },
      "execution_count": null,
      "outputs": []
    },
    {
      "cell_type": "code",
      "source": [
        "x = 5"
      ],
      "metadata": {
        "id": "JqUJ4WetP-fA"
      },
      "execution_count": null,
      "outputs": []
    },
    {
      "cell_type": "code",
      "source": [
        "x"
      ],
      "metadata": {
        "colab": {
          "base_uri": "https://localhost:8080/"
        },
        "id": "4jIKpWWO7Mlg",
        "outputId": "91675e5a-7efb-4c58-9ec1-3fcc3de78614"
      },
      "execution_count": null,
      "outputs": [
        {
          "output_type": "execute_result",
          "data": {
            "text/plain": [
              "5"
            ]
          },
          "metadata": {},
          "execution_count": 177
        }
      ]
    },
    {
      "cell_type": "code",
      "source": [
        "x+5"
      ],
      "metadata": {
        "colab": {
          "base_uri": "https://localhost:8080/"
        },
        "id": "R7hUvX167Z2M",
        "outputId": "86e90d2a-9fad-4ee7-ee24-92ec2ca4e8ac"
      },
      "execution_count": null,
      "outputs": [
        {
          "output_type": "execute_result",
          "data": {
            "text/plain": [
              "10"
            ]
          },
          "metadata": {},
          "execution_count": 178
        }
      ]
    },
    {
      "cell_type": "code",
      "source": [
        "x"
      ],
      "metadata": {
        "colab": {
          "base_uri": "https://localhost:8080/"
        },
        "id": "sBstNXYN7cbT",
        "outputId": "dcff9962-8824-4cbd-f5bd-fdfd660c50a6"
      },
      "execution_count": null,
      "outputs": [
        {
          "output_type": "execute_result",
          "data": {
            "text/plain": [
              "5"
            ]
          },
          "metadata": {},
          "execution_count": 179
        }
      ]
    },
    {
      "cell_type": "code",
      "source": [
        "x = x+5 #10\n",
        "x"
      ],
      "metadata": {
        "colab": {
          "base_uri": "https://localhost:8080/"
        },
        "id": "XfLqiYzlS843",
        "outputId": "ef8dc256-eef4-45dd-8d31-2fba765a1148"
      },
      "execution_count": null,
      "outputs": [
        {
          "output_type": "execute_result",
          "data": {
            "text/plain": [
              "10"
            ]
          },
          "metadata": {},
          "execution_count": 180
        }
      ]
    },
    {
      "cell_type": "code",
      "source": [
        "x = 5 \n",
        "x += 5\n",
        "x"
      ],
      "metadata": {
        "colab": {
          "base_uri": "https://localhost:8080/"
        },
        "id": "aU3yTF58S8dl",
        "outputId": "d213212e-a6ec-45d7-dcc2-b599d600e2c4"
      },
      "execution_count": null,
      "outputs": [
        {
          "output_type": "execute_result",
          "data": {
            "text/plain": [
              "10"
            ]
          },
          "metadata": {},
          "execution_count": 181
        }
      ]
    },
    {
      "cell_type": "code",
      "source": [
        "x = 5 \n",
        "x -= 5\n",
        "x"
      ],
      "metadata": {
        "colab": {
          "base_uri": "https://localhost:8080/"
        },
        "id": "QIMTBYezTESX",
        "outputId": "84510997-6a27-47ce-c05c-b316d69957d3"
      },
      "execution_count": null,
      "outputs": [
        {
          "output_type": "execute_result",
          "data": {
            "text/plain": [
              "0"
            ]
          },
          "metadata": {},
          "execution_count": 182
        }
      ]
    },
    {
      "cell_type": "code",
      "source": [
        "x = 5\n",
        "x *= 3\n",
        "x"
      ],
      "metadata": {
        "colab": {
          "base_uri": "https://localhost:8080/"
        },
        "id": "CFAFJjPSTK-H",
        "outputId": "7fda0ab3-ea31-400c-f9c0-7d5fbae8c5ad"
      },
      "execution_count": null,
      "outputs": [
        {
          "output_type": "execute_result",
          "data": {
            "text/plain": [
              "15"
            ]
          },
          "metadata": {},
          "execution_count": 183
        }
      ]
    },
    {
      "cell_type": "markdown",
      "source": [
        "#Python Comparison Operators"
      ],
      "metadata": {
        "id": "cvRFzVRtU4ki"
      }
    },
    {
      "cell_type": "markdown",
      "source": [
        "**== ------------- Equal\tx == y**\t\n",
        "\n",
        "**!= ------------- Not equal\tx != y**\n",
        "\n",
        "**>  ------------- Greater than\tx > y**\n",
        "\n",
        "**<  -------------  Less than\tx < y**\n",
        "\n",
        "**>= ------------- Greater than or equal to\tx >= y**\n",
        "\n",
        "**<= ------------- Less than or equal to\tx <= y**"
      ],
      "metadata": {
        "id": "0Rz5ZR8NU9jl"
      }
    },
    {
      "cell_type": "code",
      "source": [
        "a = 2\n",
        "b = 1"
      ],
      "metadata": {
        "id": "ESb84NTaUwo3"
      },
      "execution_count": null,
      "outputs": []
    },
    {
      "cell_type": "code",
      "source": [
        "a == b"
      ],
      "metadata": {
        "colab": {
          "base_uri": "https://localhost:8080/"
        },
        "id": "AiZ4qRc9VdiW",
        "outputId": "06bcaf41-253e-4ffd-eb7f-7430a2bf7777"
      },
      "execution_count": null,
      "outputs": [
        {
          "output_type": "execute_result",
          "data": {
            "text/plain": [
              "True"
            ]
          },
          "metadata": {},
          "execution_count": 187
        }
      ]
    },
    {
      "cell_type": "code",
      "source": [
        "a != b"
      ],
      "metadata": {
        "colab": {
          "base_uri": "https://localhost:8080/"
        },
        "id": "bjSRYpIQVeg_",
        "outputId": "dc015229-5b8b-4772-e4bb-20a7a829af1c"
      },
      "execution_count": null,
      "outputs": [
        {
          "output_type": "execute_result",
          "data": {
            "text/plain": [
              "False"
            ]
          },
          "metadata": {},
          "execution_count": 188
        }
      ]
    },
    {
      "cell_type": "code",
      "source": [
        "a > b"
      ],
      "metadata": {
        "colab": {
          "base_uri": "https://localhost:8080/"
        },
        "id": "6AjIbB4LViMu",
        "outputId": "18e704e3-057c-41cf-c215-22f22e3d74c2"
      },
      "execution_count": null,
      "outputs": [
        {
          "output_type": "execute_result",
          "data": {
            "text/plain": [
              "True"
            ]
          },
          "metadata": {},
          "execution_count": 191
        }
      ]
    },
    {
      "cell_type": "code",
      "source": [
        "a < b"
      ],
      "metadata": {
        "colab": {
          "base_uri": "https://localhost:8080/"
        },
        "id": "xpEkskbpVotg",
        "outputId": "aafc7947-f75f-4c8c-9a36-984fda2a5efb"
      },
      "execution_count": null,
      "outputs": [
        {
          "output_type": "execute_result",
          "data": {
            "text/plain": [
              "False"
            ]
          },
          "metadata": {},
          "execution_count": 192
        }
      ]
    },
    {
      "cell_type": "code",
      "source": [
        "a=2\n",
        "b=2"
      ],
      "metadata": {
        "id": "lEipadvh9kWF"
      },
      "execution_count": null,
      "outputs": []
    },
    {
      "cell_type": "code",
      "source": [
        "a >= b"
      ],
      "metadata": {
        "colab": {
          "base_uri": "https://localhost:8080/"
        },
        "id": "VoDOq3pyVqD_",
        "outputId": "7188fd55-cd8e-4023-e21e-d7d6c42f9a6a"
      },
      "execution_count": null,
      "outputs": [
        {
          "output_type": "execute_result",
          "data": {
            "text/plain": [
              "True"
            ]
          },
          "metadata": {},
          "execution_count": 197
        }
      ]
    },
    {
      "cell_type": "code",
      "source": [
        "a <= b"
      ],
      "metadata": {
        "colab": {
          "base_uri": "https://localhost:8080/"
        },
        "id": "ETfMz8B2Vrv-",
        "outputId": "393ba26f-1390-4c1a-f648-3735140abfec"
      },
      "execution_count": null,
      "outputs": [
        {
          "output_type": "execute_result",
          "data": {
            "text/plain": [
              "True"
            ]
          },
          "metadata": {},
          "execution_count": 198
        }
      ]
    },
    {
      "cell_type": "markdown",
      "source": [
        "#Python Logical Operators"
      ],
      "metadata": {
        "id": "neih-YMcV05C"
      }
    },
    {
      "cell_type": "markdown",
      "source": [
        "**and --------- Returns True if both statements are true\tx < 5 and  x < 10**\t\n",
        "**or  --------- Returns True if one of the statements is true\tx < 5 or x < 4**\t\n",
        "**not --------- Reverse the result, returns False if the result is true\tnot(x < 5 and x < 10)**"
      ],
      "metadata": {
        "id": "-jSHpjjfV4AV"
      }
    },
    {
      "cell_type": "code",
      "source": [
        "x = 3"
      ],
      "metadata": {
        "id": "3LhWZy8VVslE"
      },
      "execution_count": null,
      "outputs": []
    },
    {
      "cell_type": "code",
      "source": [
        "x < 5"
      ],
      "metadata": {
        "id": "ddnCEHP993vB"
      },
      "execution_count": null,
      "outputs": []
    },
    {
      "cell_type": "code",
      "source": [
        "x < 5 and x < 1"
      ],
      "metadata": {
        "colab": {
          "base_uri": "https://localhost:8080/"
        },
        "id": "viVYo934WIos",
        "outputId": "2a8493ff-2d0c-4dcb-8bdc-70ba7ea7c7d6"
      },
      "execution_count": null,
      "outputs": [
        {
          "output_type": "execute_result",
          "data": {
            "text/plain": [
              "False"
            ]
          },
          "metadata": {},
          "execution_count": 201
        }
      ]
    },
    {
      "cell_type": "code",
      "source": [
        "x < 5 or x < 4"
      ],
      "metadata": {
        "colab": {
          "base_uri": "https://localhost:8080/"
        },
        "id": "zKSPyCorWI2B",
        "outputId": "23effb92-4672-4d99-b52a-e799ef25622c"
      },
      "execution_count": null,
      "outputs": [
        {
          "output_type": "execute_result",
          "data": {
            "text/plain": [
              "True"
            ]
          },
          "metadata": {},
          "execution_count": 202
        }
      ]
    },
    {
      "cell_type": "code",
      "source": [
        "not(x < 5 and x < 10)"
      ],
      "metadata": {
        "colab": {
          "base_uri": "https://localhost:8080/"
        },
        "id": "buNZhUBoWPOh",
        "outputId": "9d67d838-8d1b-45ad-9d38-15a462c5953a"
      },
      "execution_count": null,
      "outputs": [
        {
          "output_type": "execute_result",
          "data": {
            "text/plain": [
              "False"
            ]
          },
          "metadata": {},
          "execution_count": 203
        }
      ]
    },
    {
      "cell_type": "markdown",
      "source": [
        "#Python Identity Operators"
      ],
      "metadata": {
        "id": "V0cZKSGAWW0I"
      }
    },
    {
      "cell_type": "markdown",
      "source": [
        "**is --------- Returns True if both variables are the same object\tx is y**\n",
        "\n",
        "**is not --------- Returns True if both variables are not the same object\tx is not y**"
      ],
      "metadata": {
        "id": "yk6UHeHFWZWo"
      }
    },
    {
      "cell_type": "code",
      "source": [
        "x = 2\n",
        "y = 2"
      ],
      "metadata": {
        "id": "s8P-PyVeWU73"
      },
      "execution_count": null,
      "outputs": []
    },
    {
      "cell_type": "code",
      "source": [
        "x is y"
      ],
      "metadata": {
        "colab": {
          "base_uri": "https://localhost:8080/"
        },
        "id": "oCOifNmVWpfN",
        "outputId": "f92b7bde-90b5-4994-fbba-cdfb7cba3dad"
      },
      "execution_count": null,
      "outputs": [
        {
          "output_type": "execute_result",
          "data": {
            "text/plain": [
              "True"
            ]
          },
          "metadata": {},
          "execution_count": 34
        }
      ]
    },
    {
      "cell_type": "code",
      "source": [
        "x is not y"
      ],
      "metadata": {
        "colab": {
          "base_uri": "https://localhost:8080/"
        },
        "id": "1IjkFJoYWqSH",
        "outputId": "ce24a80e-0203-42d6-c6cc-cc48f7d93a6f"
      },
      "execution_count": null,
      "outputs": [
        {
          "output_type": "execute_result",
          "data": {
            "text/plain": [
              "False"
            ]
          },
          "metadata": {},
          "execution_count": 35
        }
      ]
    },
    {
      "cell_type": "markdown",
      "source": [
        "#Python Data Types"
      ],
      "metadata": {
        "id": "gwyiGko3YSXK"
      }
    },
    {
      "cell_type": "code",
      "source": [
        "1,2,3,4,100,50"
      ],
      "metadata": {
        "id": "yJb4oDSO-ujF"
      },
      "execution_count": null,
      "outputs": []
    },
    {
      "cell_type": "markdown",
      "source": [
        "**Numeric**"
      ],
      "metadata": {
        "id": "DrNQf3VdYbip"
      }
    },
    {
      "cell_type": "markdown",
      "source": [
        "\n",
        "\n",
        "\n",
        "1. Integers\n",
        "2. Float\n",
        "3. Complex Numbers"
      ],
      "metadata": {
        "id": "0cMS26mWYgKN"
      }
    },
    {
      "cell_type": "code",
      "source": [
        "a = 5\n",
        "type(a)"
      ],
      "metadata": {
        "colab": {
          "base_uri": "https://localhost:8080/"
        },
        "id": "DVjujYDC-8-R",
        "outputId": "bf653d36-d344-4b81-c0dd-942e5c95f335"
      },
      "execution_count": null,
      "outputs": [
        {
          "output_type": "execute_result",
          "data": {
            "text/plain": [
              "int"
            ]
          },
          "metadata": {},
          "execution_count": 204
        }
      ]
    },
    {
      "cell_type": "code",
      "source": [
        "print(\"hello all\")"
      ],
      "metadata": {
        "colab": {
          "base_uri": "https://localhost:8080/"
        },
        "id": "R2NN8_ap_JdO",
        "outputId": "59dc0f53-7761-4e66-e2cd-c02533cae08e"
      },
      "execution_count": null,
      "outputs": [
        {
          "output_type": "stream",
          "name": "stdout",
          "text": [
            "hello all\n"
          ]
        }
      ]
    },
    {
      "cell_type": "code",
      "source": [
        "print(\"Type of a: \",type(a))"
      ],
      "metadata": {
        "colab": {
          "base_uri": "https://localhost:8080/"
        },
        "id": "o0hSF-sk_QhD",
        "outputId": "1eb24a53-6859-4299-fbe7-aa1c9185d9e8"
      },
      "execution_count": null,
      "outputs": [
        {
          "output_type": "stream",
          "name": "stdout",
          "text": [
            "Type of a:  <class 'int'>\n"
          ]
        }
      ]
    },
    {
      "cell_type": "code",
      "source": [
        "print(\"hello\")\n",
        "print(\"\\n\")\n",
        "print(\"from letsupgrade\")"
      ],
      "metadata": {
        "colab": {
          "base_uri": "https://localhost:8080/"
        },
        "id": "PWTdM6v6_usV",
        "outputId": "1dd098b7-1d18-4e90-acd3-61574a6b0124"
      },
      "execution_count": null,
      "outputs": [
        {
          "output_type": "stream",
          "name": "stdout",
          "text": [
            "hello\n",
            "\n",
            "\n",
            "from letsupgrade\n"
          ]
        }
      ]
    },
    {
      "cell_type": "code",
      "source": [
        "a = 5\n",
        "print(\"Type of a: \", type(a))\n",
        "\n",
        "b = 5.0\n",
        "print(\"\\nType of b: \", type(b))\n",
        "\n",
        "c = 2 + 4j\n",
        "print(\"\\nType of c: \", type(c))\n"
      ],
      "metadata": {
        "colab": {
          "base_uri": "https://localhost:8080/"
        },
        "id": "r7FLQ3tHWtas",
        "outputId": "84aa90d7-748d-4831-9e5e-91f3d3a3c8e1"
      },
      "execution_count": null,
      "outputs": [
        {
          "output_type": "stream",
          "name": "stdout",
          "text": [
            "Type of a:  <class 'int'>\n",
            "\n",
            "Type of b:  <class 'float'>\n",
            "\n",
            "Type of c:  <class 'complex'>\n"
          ]
        }
      ]
    },
    {
      "cell_type": "markdown",
      "source": [
        "#1) String"
      ],
      "metadata": {
        "id": "SdkRIPQNZRSL"
      }
    },
    {
      "cell_type": "code",
      "source": [
        "a = \"hello all how are you\"\n",
        "b=5\n",
        "c='5'"
      ],
      "metadata": {
        "id": "KPih2vDbAE93"
      },
      "execution_count": null,
      "outputs": []
    },
    {
      "cell_type": "code",
      "source": [
        "type(a)"
      ],
      "metadata": {
        "colab": {
          "base_uri": "https://localhost:8080/"
        },
        "id": "LeaZ-M3qAJR6",
        "outputId": "4bbc4c31-7e01-4e23-a768-dc3aec923637"
      },
      "execution_count": null,
      "outputs": [
        {
          "output_type": "execute_result",
          "data": {
            "text/plain": [
              "str"
            ]
          },
          "metadata": {},
          "execution_count": 221
        }
      ]
    },
    {
      "cell_type": "code",
      "source": [
        "type(b)"
      ],
      "metadata": {
        "colab": {
          "base_uri": "https://localhost:8080/"
        },
        "id": "LDhHADUfASIU",
        "outputId": "69fd4a98-717e-4bb2-babd-6f7ec574f75c"
      },
      "execution_count": null,
      "outputs": [
        {
          "output_type": "execute_result",
          "data": {
            "text/plain": [
              "int"
            ]
          },
          "metadata": {},
          "execution_count": 222
        }
      ]
    },
    {
      "cell_type": "code",
      "source": [
        "type(c)"
      ],
      "metadata": {
        "colab": {
          "base_uri": "https://localhost:8080/"
        },
        "id": "fn_YeAxZATSA",
        "outputId": "88d4fa8c-fa6c-4b97-fe75-ac3c71613aab"
      },
      "execution_count": null,
      "outputs": [
        {
          "output_type": "execute_result",
          "data": {
            "text/plain": [
              "str"
            ]
          },
          "metadata": {},
          "execution_count": 223
        }
      ]
    },
    {
      "cell_type": "code",
      "source": [
        "ss = '''\n",
        "hello all how are you\n",
        "'''"
      ],
      "metadata": {
        "id": "24ylu_FBAfJZ"
      },
      "execution_count": null,
      "outputs": []
    },
    {
      "cell_type": "code",
      "source": [
        ""
      ],
      "metadata": {
        "id": "_b7kOnOSAmUx"
      },
      "execution_count": null,
      "outputs": []
    },
    {
      "cell_type": "code",
      "source": [
        "String1 = 'Welcome to the Letsupgrades World'\n",
        "print(\"String with the use of Single Quotes: \")\n",
        "print(String1)\n",
        "\t\n",
        "String1 = \"I'm a Letsupgrade student\"\n",
        "print(\"\\nString with the use of Double Quotes: \")\n",
        "print(String1)\n",
        "print(type(String1))\n",
        "\t\n",
        "\n",
        "String1 = '''I'm a Letsupgrade and I live in a world of \"Letsupgrades\"'''\n",
        "print(\"\\nString with the use of Triple Quotes: \")\n",
        "print(String1)\n",
        "print(type(String1))\n",
        "\n",
        "\n",
        "String1 = '''Letsupgrades\n",
        "\t\t\tFor\n",
        "\t\t\tLife'''\n",
        "      \n",
        "print(\"\\nCreating a multiline String: \")\n",
        "print(String1)"
      ],
      "metadata": {
        "colab": {
          "base_uri": "https://localhost:8080/"
        },
        "id": "GgVT0bQCZA9M",
        "outputId": "b1b4bb5e-f54f-4d05-bd6b-393a72317d1f"
      },
      "execution_count": null,
      "outputs": [
        {
          "output_type": "stream",
          "name": "stdout",
          "text": [
            "String with the use of Single Quotes: \n",
            "Welcome to the Letsupgrades World\n",
            "\n",
            "String with the use of Double Quotes: \n",
            "I'm a Letsupgrade student\n",
            "<class 'str'>\n",
            "\n",
            "String with the use of Triple Quotes: \n",
            "I'm a Letsupgrade and I live in a world of \"Letsupgrades\"\n",
            "<class 'str'>\n",
            "\n",
            "Creating a multiline String: \n",
            "Letsupgrades\n",
            "\t\t\tFor\n",
            "\t\t\tLife\n"
          ]
        }
      ]
    },
    {
      "cell_type": "markdown",
      "source": [
        "#2) List"
      ],
      "metadata": {
        "id": "eJB0rNIlaCQN"
      }
    },
    {
      "cell_type": "code",
      "source": [
        "list1 = [1,2,3,4,5,6,'satyam']"
      ],
      "metadata": {
        "id": "Kyy9hlxIAvZS"
      },
      "execution_count": null,
      "outputs": []
    },
    {
      "cell_type": "code",
      "source": [
        "list1"
      ],
      "metadata": {
        "colab": {
          "base_uri": "https://localhost:8080/"
        },
        "id": "PPSAMVBjBA51",
        "outputId": "ee4288f1-3861-4b4a-8b5a-1edc4ef6d805"
      },
      "execution_count": null,
      "outputs": [
        {
          "output_type": "execute_result",
          "data": {
            "text/plain": [
              "[1, 2, 3, 4, 5, 6, 'satyam']"
            ]
          },
          "metadata": {},
          "execution_count": 228
        }
      ]
    },
    {
      "cell_type": "code",
      "source": [
        "List = []\n",
        "print(\"Initial blank List: \")\n",
        "print(List)\n",
        "\t\n"
      ],
      "metadata": {
        "colab": {
          "base_uri": "https://localhost:8080/"
        },
        "id": "HvH10RIvBPW1",
        "outputId": "51d9d044-87a5-427e-a619-9ca90e7a29b6"
      },
      "execution_count": null,
      "outputs": [
        {
          "output_type": "stream",
          "name": "stdout",
          "text": [
            "Initial blank List: \n",
            "[]\n"
          ]
        }
      ]
    },
    {
      "cell_type": "code",
      "source": [
        "List = ['Letsupgrade For all']\n",
        "print(\"\\nList with the use of String: \")\n",
        "print(List)"
      ],
      "metadata": {
        "colab": {
          "base_uri": "https://localhost:8080/"
        },
        "id": "ioIJ8LI7BSdR",
        "outputId": "ced78d3b-2552-42fb-e51a-b5c7b81250b3"
      },
      "execution_count": null,
      "outputs": [
        {
          "output_type": "stream",
          "name": "stdout",
          "text": [
            "\n",
            "List with the use of String: \n",
            "['Letsupgrade For all']\n"
          ]
        }
      ]
    },
    {
      "cell_type": "code",
      "source": [
        "List = [\"Letsupgrade\", \"For\", \"all\"]\n",
        "#            0.      ,   1. ,   2"
      ],
      "metadata": {
        "id": "x-ypE5pxBc2Y"
      },
      "execution_count": null,
      "outputs": []
    },
    {
      "cell_type": "code",
      "source": [
        "List[2]"
      ],
      "metadata": {
        "colab": {
          "base_uri": "https://localhost:8080/",
          "height": 36
        },
        "id": "cKrvePp7Bdjb",
        "outputId": "f86b2fc6-cbc1-4e84-d891-8fc963f3394b"
      },
      "execution_count": null,
      "outputs": [
        {
          "output_type": "execute_result",
          "data": {
            "text/plain": [
              "'all'"
            ],
            "application/vnd.google.colaboratory.intrinsic+json": {
              "type": "string"
            }
          },
          "metadata": {},
          "execution_count": 236
        }
      ]
    },
    {
      "cell_type": "code",
      "source": [
        "List = [\"Letsupgrade\", \"For\", \"all\"]\n",
        "print(\"\\nList containing multiple values: \")\n",
        "print(List[0])\n",
        "print(List[2])"
      ],
      "metadata": {
        "colab": {
          "base_uri": "https://localhost:8080/"
        },
        "id": "YNDr_jzuBUNg",
        "outputId": "e7c666bf-36c7-4ad4-bba9-c343ea602fa6"
      },
      "execution_count": null,
      "outputs": [
        {
          "output_type": "stream",
          "name": "stdout",
          "text": [
            "\n",
            "List containing multiple values: \n",
            "Letsupgrade\n",
            "all\n"
          ]
        }
      ]
    },
    {
      "cell_type": "code",
      "source": [
        "List = [['Letsupgrade', 'For'], ['all']]"
      ],
      "metadata": {
        "id": "5THVNimXCD0J"
      },
      "execution_count": null,
      "outputs": []
    },
    {
      "cell_type": "code",
      "source": [
        "List = [['Letsupgrade', 'For'], ['all']]\n",
        "print(\"\\nMulti-Dimensional List: \")\n",
        "print(List)"
      ],
      "metadata": {
        "colab": {
          "base_uri": "https://localhost:8080/"
        },
        "id": "PlasR0jXZ19k",
        "outputId": "c785ca03-1474-44da-9aa1-bcb3fb298f5d"
      },
      "execution_count": null,
      "outputs": [
        {
          "output_type": "stream",
          "name": "stdout",
          "text": [
            "\n",
            "Multi-Dimensional List: \n",
            "[['Letsupgrade', 'For'], ['all']]\n"
          ]
        }
      ]
    },
    {
      "cell_type": "code",
      "source": [
        "abhi = [2,3,4,5,6,7,8]"
      ],
      "metadata": {
        "id": "krrHXZ1zCN83"
      },
      "execution_count": null,
      "outputs": []
    },
    {
      "cell_type": "code",
      "source": [
        "abhi"
      ],
      "metadata": {
        "colab": {
          "base_uri": "https://localhost:8080/"
        },
        "id": "5hxu-g8oCQwS",
        "outputId": "54ee5aaa-4a71-4898-8130-dc0d8b5db138"
      },
      "execution_count": null,
      "outputs": [
        {
          "output_type": "execute_result",
          "data": {
            "text/plain": [
              "[2, 3, 4, 5, 6, 7, 8]"
            ]
          },
          "metadata": {},
          "execution_count": 243
        }
      ]
    },
    {
      "cell_type": "markdown",
      "source": [
        "#3) Tuple"
      ],
      "metadata": {
        "id": "bBj1_od3aaFX"
      }
    },
    {
      "cell_type": "code",
      "source": [
        "Tup = (1,2,3,4,5)"
      ],
      "metadata": {
        "id": "c2B7D5TpCmbA"
      },
      "execution_count": null,
      "outputs": []
    },
    {
      "cell_type": "code",
      "source": [
        "Tup"
      ],
      "metadata": {
        "colab": {
          "base_uri": "https://localhost:8080/"
        },
        "id": "pO-lQGqEColC",
        "outputId": "e70b5781-865a-4d99-e24b-61598fccbeca"
      },
      "execution_count": null,
      "outputs": [
        {
          "output_type": "execute_result",
          "data": {
            "text/plain": [
              "(1, 2, 3, 4, 5)"
            ]
          },
          "metadata": {},
          "execution_count": 246
        }
      ]
    },
    {
      "cell_type": "code",
      "source": [
        "l1 = [1,2,3,4,5]"
      ],
      "metadata": {
        "id": "qrDf7HvoC5zJ"
      },
      "execution_count": null,
      "outputs": []
    },
    {
      "cell_type": "code",
      "source": [
        "type(l1)"
      ],
      "metadata": {
        "colab": {
          "base_uri": "https://localhost:8080/"
        },
        "id": "zMySqVCSC7zx",
        "outputId": "e705f227-6c55-4701-92f8-92e9c32cb97d"
      },
      "execution_count": null,
      "outputs": [
        {
          "output_type": "execute_result",
          "data": {
            "text/plain": [
              "list"
            ]
          },
          "metadata": {},
          "execution_count": 249
        }
      ]
    },
    {
      "cell_type": "code",
      "source": [
        "l2 = tuple(l1)"
      ],
      "metadata": {
        "id": "x-Up2wvHC8-x"
      },
      "execution_count": null,
      "outputs": []
    },
    {
      "cell_type": "code",
      "source": [
        "type(l2)"
      ],
      "metadata": {
        "colab": {
          "base_uri": "https://localhost:8080/"
        },
        "id": "ycHoxqg9DLnB",
        "outputId": "f779c43d-c7fb-4683-f269-987262463f8f"
      },
      "execution_count": null,
      "outputs": [
        {
          "output_type": "execute_result",
          "data": {
            "text/plain": [
              "tuple"
            ]
          },
          "metadata": {},
          "execution_count": 252
        }
      ]
    },
    {
      "cell_type": "code",
      "source": [
        "list(l2)"
      ],
      "metadata": {
        "colab": {
          "base_uri": "https://localhost:8080/"
        },
        "id": "S8TBEm4gDPAb",
        "outputId": "57e643d0-b78c-4330-d7e2-0fcabbb03920"
      },
      "execution_count": null,
      "outputs": [
        {
          "output_type": "execute_result",
          "data": {
            "text/plain": [
              "[1, 2, 3, 4, 5]"
            ]
          },
          "metadata": {},
          "execution_count": 253
        }
      ]
    },
    {
      "cell_type": "code",
      "source": [
        "t1 = (1,2,2,3,3,4)"
      ],
      "metadata": {
        "id": "fqZahbkQDWZF"
      },
      "execution_count": null,
      "outputs": []
    },
    {
      "cell_type": "code",
      "source": [
        "t1"
      ],
      "metadata": {
        "colab": {
          "base_uri": "https://localhost:8080/"
        },
        "id": "PfkBkRMRDdds",
        "outputId": "5993718c-ad24-4f5d-85b7-6f02522ca60f"
      },
      "execution_count": null,
      "outputs": [
        {
          "output_type": "execute_result",
          "data": {
            "text/plain": [
              "(1, 2, 2, 3, 3, 4)"
            ]
          },
          "metadata": {},
          "execution_count": 256
        }
      ]
    },
    {
      "cell_type": "code",
      "source": [
        "Tuple1 = ()\n",
        "print(\"Initial empty Tuple: \")\n",
        "print (Tuple1)\n",
        "\t\n",
        "Tuple1 = ('Letsupgrade', 'For')\n",
        "print(\"\\nTuple with the use of String: \")\n",
        "print(Tuple1)\n",
        "\t\n",
        "list1 = [1, 2, 4, 5, 6]\n",
        "print(\"\\nTuple using List: \")\n",
        "print(tuple(list1))\n",
        "\n",
        "Tuple1 = tuple('Letsupgrade')\n",
        "print(\"\\nTuple with the use of function: \")\n",
        "print(Tuple1)\n",
        "\n",
        "Tuple1 = (0, 1, 2, 3)\n",
        "Tuple2 = ('python', 'Letsupgrade')\n",
        "Tuple3 = (Tuple1, Tuple2)\n",
        "print(\"\\nTuple with nested tuples: \")\n",
        "print(Tuple3)\n"
      ],
      "metadata": {
        "colab": {
          "base_uri": "https://localhost:8080/"
        },
        "id": "WZPIKCSJaTcC",
        "outputId": "a265a56e-3bf0-4f4e-e3c7-6b37f83ce213"
      },
      "execution_count": null,
      "outputs": [
        {
          "output_type": "stream",
          "name": "stdout",
          "text": [
            "Initial empty Tuple: \n",
            "()\n",
            "\n",
            "Tuple with the use of String: \n",
            "('Letsupgrade', 'For')\n",
            "\n",
            "Tuple using List: \n",
            "(1, 2, 4, 5, 6)\n",
            "\n",
            "Tuple with the use of function: \n",
            "('L', 'e', 't', 's', 'u', 'p', 'g', 'r', 'a', 'd', 'e')\n",
            "\n",
            "Tuple with nested tuples: \n",
            "((0, 1, 2, 3), ('python', 'Letsupgrade'))\n"
          ]
        }
      ]
    },
    {
      "cell_type": "markdown",
      "source": [
        "#Boolean"
      ],
      "metadata": {
        "id": "NQJJ__wgbFi9"
      }
    },
    {
      "cell_type": "code",
      "source": [
        "print(type(True))\n",
        "print(type(False))\n"
      ],
      "metadata": {
        "colab": {
          "base_uri": "https://localhost:8080/"
        },
        "id": "Ln7--jKiayZb",
        "outputId": "6b96681b-3f23-4b2a-cba6-3676ca45db75"
      },
      "execution_count": null,
      "outputs": [
        {
          "output_type": "stream",
          "name": "stdout",
          "text": [
            "<class 'bool'>\n",
            "<class 'bool'>\n"
          ]
        }
      ]
    },
    {
      "cell_type": "code",
      "source": [
        "print(type(True))"
      ],
      "metadata": {
        "colab": {
          "base_uri": "https://localhost:8080/"
        },
        "id": "4CN7qoaFDmqS",
        "outputId": "7b9ee6aa-61bc-4795-c847-69e8515b9246"
      },
      "execution_count": null,
      "outputs": [
        {
          "output_type": "stream",
          "name": "stdout",
          "text": [
            "<class 'bool'>\n"
          ]
        }
      ]
    },
    {
      "cell_type": "markdown",
      "source": [
        "#Set"
      ],
      "metadata": {
        "id": "zJdpq_2LbNiW"
      }
    },
    {
      "cell_type": "code",
      "source": [
        "l1 = [10,20,2,3,4,5,5,1]"
      ],
      "metadata": {
        "id": "bfXBf50FDy9I"
      },
      "execution_count": null,
      "outputs": []
    },
    {
      "cell_type": "code",
      "source": [
        "l1 = ['a','a','b','b','c']"
      ],
      "metadata": {
        "id": "6wNyqxDkD-Fq"
      },
      "execution_count": null,
      "outputs": []
    },
    {
      "cell_type": "code",
      "source": [
        "l1"
      ],
      "metadata": {
        "colab": {
          "base_uri": "https://localhost:8080/"
        },
        "id": "eBuE_eTHD237",
        "outputId": "c55e1667-9984-41a9-e499-ac2a10100d83"
      },
      "execution_count": null,
      "outputs": [
        {
          "output_type": "execute_result",
          "data": {
            "text/plain": [
              "[10, 20, 2, 3, 4, 5, 5, 1]"
            ]
          },
          "metadata": {},
          "execution_count": 269
        }
      ]
    },
    {
      "cell_type": "code",
      "source": [
        "set(l1)"
      ],
      "metadata": {
        "colab": {
          "base_uri": "https://localhost:8080/"
        },
        "id": "C9HQvPGdD3q-",
        "outputId": "bc34fe50-8f4a-4577-dae4-e8bf0347b448"
      },
      "execution_count": null,
      "outputs": [
        {
          "output_type": "execute_result",
          "data": {
            "text/plain": [
              "{1, 2, 3, 4, 5, 10, 20}"
            ]
          },
          "metadata": {},
          "execution_count": 270
        }
      ]
    },
    {
      "cell_type": "code",
      "source": [
        "set1 = set()\n",
        "print(\"Initial blank Set: \")\n",
        "print(set1)\n",
        "\t\n",
        "set1 = set(\"Letsupgrade For Students\")\n",
        "print(\"\\nSet with the use of String: \")\n",
        "print(set1)\n",
        "\n",
        "set1 = set([\"Letsupgrade\", \"For\", \"Students\"])\n",
        "print(\"\\nSet with the use of List: \")\n",
        "print(set1)\n",
        "\n",
        "set1 = set([1, 2, 'Letsupgrade', 4, 'For', 6, 'Students'])\n",
        "print(\"\\nSet with the use of Mixed Values\")\n",
        "print(set1)\n"
      ],
      "metadata": {
        "colab": {
          "base_uri": "https://localhost:8080/"
        },
        "id": "ujk-iupPbLFz",
        "outputId": "c7ff8a9c-19e1-4dd0-f3d7-eb0a75e74dd9"
      },
      "execution_count": null,
      "outputs": [
        {
          "output_type": "stream",
          "name": "stdout",
          "text": [
            "Initial blank Set: \n",
            "set()\n",
            "\n",
            "Set with the use of String: \n",
            "{'a', 'e', 'd', 'g', ' ', 's', 't', 'S', 'r', 'L', 'F', 'o', 'n', 'u', 'p'}\n",
            "\n",
            "Set with the use of List: \n",
            "{'For', 'Letsupgrade', 'Students'}\n",
            "\n",
            "Set with the use of Mixed Values\n",
            "{1, 2, 'Letsupgrade', 4, 6, 'For', 'Students'}\n"
          ]
        }
      ]
    },
    {
      "cell_type": "markdown",
      "source": [
        "#Dictionary"
      ],
      "metadata": {
        "id": "8QRDlqehbiyA"
      }
    },
    {
      "cell_type": "markdown",
      "source": [
        "DICT={key:value,key:value}"
      ],
      "metadata": {
        "id": "wxSOPDd1Fdh1"
      }
    },
    {
      "cell_type": "code",
      "source": [
        "Dict = {1: 'Letsupgrade', 2: 'For', 3: 'Student'}"
      ],
      "metadata": {
        "id": "gH3cOJ4-FaMh"
      },
      "execution_count": null,
      "outputs": []
    },
    {
      "cell_type": "code",
      "source": [
        "dict2 = {\"class_a\":'navin',\"class_b\":\"chirag\",\"class_c\":\"satyam\"}"
      ],
      "metadata": {
        "id": "Z_uKetv2FjdP"
      },
      "execution_count": null,
      "outputs": []
    },
    {
      "cell_type": "code",
      "source": [
        "dict2['class_a']"
      ],
      "metadata": {
        "colab": {
          "base_uri": "https://localhost:8080/",
          "height": 36
        },
        "id": "kd3eMhKvFv-C",
        "outputId": "65459ca6-049a-4d2c-e4e5-277841e0a1d9"
      },
      "execution_count": null,
      "outputs": [
        {
          "output_type": "execute_result",
          "data": {
            "text/plain": [
              "'navin'"
            ],
            "application/vnd.google.colaboratory.intrinsic+json": {
              "type": "string"
            }
          },
          "metadata": {},
          "execution_count": 273
        }
      ]
    },
    {
      "cell_type": "code",
      "source": [
        "dict2['class_b']"
      ],
      "metadata": {
        "id": "phlTULPQF0oe",
        "outputId": "91215c9b-12fd-4843-b4db-ed20cc558854",
        "colab": {
          "base_uri": "https://localhost:8080/",
          "height": 36
        }
      },
      "execution_count": null,
      "outputs": [
        {
          "output_type": "execute_result",
          "data": {
            "text/plain": [
              "'chirag'"
            ],
            "application/vnd.google.colaboratory.intrinsic+json": {
              "type": "string"
            }
          },
          "metadata": {},
          "execution_count": 274
        }
      ]
    },
    {
      "cell_type": "code",
      "source": [
        "Dict = {}\n",
        "print(\"Empty Dictionary: \")\n",
        "print(Dict)\n",
        "\t\n",
        "Dict = {1: 'Letsupgrade', 2: 'For', 3: 'Student'}\n",
        "print(\"\\nDictionary with the use of Integer Keys: \")\n",
        "print(Dict)\n",
        "\t\n",
        "Dict = {'Name': 'Letsupgrade', 1: [1, 2, 3, 4]}\n",
        "print(\"\\nDictionary with the use of Mixed Keys: \")\n",
        "print(Dict)\n",
        "\t\n",
        "Dict = dict({1: 'Letsupgrade', 2: 'For', 3:'Student'})\n",
        "print(\"\\nDictionary with the use of dict(): \")\n",
        "print(Dict)\n",
        "\t\n",
        "Dict = dict([(1, 'Letsupgrade'), (2, 'For')])\n",
        "print(\"\\nDictionary with each item as a pair: \")\n",
        "print(Dict)\n"
      ],
      "metadata": {
        "colab": {
          "base_uri": "https://localhost:8080/"
        },
        "id": "o3eoSu4ibc5I",
        "outputId": "1ed6c814-f2a1-4d78-be06-fd9cc04066eb"
      },
      "execution_count": null,
      "outputs": [
        {
          "output_type": "stream",
          "name": "stdout",
          "text": [
            "Empty Dictionary: \n",
            "{}\n",
            "\n",
            "Dictionary with the use of Integer Keys: \n",
            "{1: 'Letsupgrade', 2: 'For', 3: 'Student'}\n",
            "\n",
            "Dictionary with the use of Mixed Keys: \n",
            "{'Name': 'Letsupgrade', 1: [1, 2, 3, 4]}\n",
            "\n",
            "Dictionary with the use of dict(): \n",
            "{1: 'Letsupgrade', 2: 'For', 3: 'Student'}\n",
            "\n",
            "Dictionary with each item as a pair: \n",
            "{1: 'Letsupgrade', 2: 'For'}\n"
          ]
        }
      ]
    },
    {
      "cell_type": "markdown",
      "source": [
        "#Python String Functions"
      ],
      "metadata": {
        "id": "yd_4Xgj_e95v"
      }
    },
    {
      "cell_type": "code",
      "source": [
        "x = \"Letsupgrade\"\n",
        "print(x)"
      ],
      "metadata": {
        "colab": {
          "base_uri": "https://localhost:8080/"
        },
        "id": "QLXVLIkVb3TD",
        "outputId": "dec7126a-e08a-4eb9-8093-1c4b6ebcfebc"
      },
      "execution_count": null,
      "outputs": [
        {
          "output_type": "stream",
          "name": "stdout",
          "text": [
            "Letsupgrade\n"
          ]
        }
      ]
    },
    {
      "cell_type": "markdown",
      "source": [
        "**Python String Indexing**"
      ],
      "metadata": {
        "id": "_bHJ_k25fJCP"
      }
    },
    {
      "cell_type": "code",
      "source": [
        "say = \"Hi from LetsUpgrade\""
      ],
      "metadata": {
        "id": "HfntfVz2fGPz"
      },
      "execution_count": null,
      "outputs": []
    },
    {
      "cell_type": "code",
      "source": [
        "say[0]"
      ],
      "metadata": {
        "colab": {
          "base_uri": "https://localhost:8080/",
          "height": 35
        },
        "id": "13A5xQO4fZwb",
        "outputId": "7b5298d8-084a-40cf-ac27-6f61acadffec"
      },
      "execution_count": null,
      "outputs": [
        {
          "output_type": "execute_result",
          "data": {
            "text/plain": [
              "'H'"
            ],
            "application/vnd.google.colaboratory.intrinsic+json": {
              "type": "string"
            }
          },
          "metadata": {},
          "execution_count": 45
        }
      ]
    },
    {
      "cell_type": "code",
      "source": [
        "say[3]"
      ],
      "metadata": {
        "colab": {
          "base_uri": "https://localhost:8080/",
          "height": 35
        },
        "id": "iTrHfG0Nfaz2",
        "outputId": "1314fa46-8b69-40c3-bc15-e3ff35fe2312"
      },
      "execution_count": null,
      "outputs": [
        {
          "output_type": "execute_result",
          "data": {
            "text/plain": [
              "'f'"
            ],
            "application/vnd.google.colaboratory.intrinsic+json": {
              "type": "string"
            }
          },
          "metadata": {},
          "execution_count": 46
        }
      ]
    },
    {
      "cell_type": "code",
      "source": [
        "say[5]"
      ],
      "metadata": {
        "colab": {
          "base_uri": "https://localhost:8080/",
          "height": 35
        },
        "id": "3WCk8Y3QfcCd",
        "outputId": "524dd1a7-c410-4748-8c3a-5e3fb5c7e224"
      },
      "execution_count": null,
      "outputs": [
        {
          "output_type": "execute_result",
          "data": {
            "text/plain": [
              "'o'"
            ],
            "application/vnd.google.colaboratory.intrinsic+json": {
              "type": "string"
            }
          },
          "metadata": {},
          "execution_count": 47
        }
      ]
    },
    {
      "cell_type": "code",
      "source": [
        "say[-1]"
      ],
      "metadata": {
        "colab": {
          "base_uri": "https://localhost:8080/",
          "height": 35
        },
        "id": "t0TLA-Pmff5X",
        "outputId": "97fac218-033f-4ca3-9c21-16caaa17f6a8"
      },
      "execution_count": null,
      "outputs": [
        {
          "output_type": "execute_result",
          "data": {
            "text/plain": [
              "'e'"
            ],
            "application/vnd.google.colaboratory.intrinsic+json": {
              "type": "string"
            }
          },
          "metadata": {},
          "execution_count": 48
        }
      ]
    },
    {
      "cell_type": "code",
      "source": [
        "say[-2]"
      ],
      "metadata": {
        "colab": {
          "base_uri": "https://localhost:8080/",
          "height": 35
        },
        "id": "bXVwoWo5fh9z",
        "outputId": "b1c602b3-697a-47c5-bb21-5439dda87e84"
      },
      "execution_count": null,
      "outputs": [
        {
          "output_type": "execute_result",
          "data": {
            "text/plain": [
              "'d'"
            ],
            "application/vnd.google.colaboratory.intrinsic+json": {
              "type": "string"
            }
          },
          "metadata": {},
          "execution_count": 49
        }
      ]
    },
    {
      "cell_type": "markdown",
      "source": [
        "**Python String Slicing**"
      ],
      "metadata": {
        "id": "p4ppJ6i_fpL5"
      }
    },
    {
      "cell_type": "markdown",
      "source": [
        "my_string[start:stop:step]"
      ],
      "metadata": {
        "id": "dMBkggGDfssa"
      }
    },
    {
      "cell_type": "code",
      "source": [
        "say = \"Hi from LetsUpgrade!\""
      ],
      "metadata": {
        "id": "FU8Boo3ffj53"
      },
      "execution_count": null,
      "outputs": []
    },
    {
      "cell_type": "code",
      "source": [
        "say[3:6]"
      ],
      "metadata": {
        "colab": {
          "base_uri": "https://localhost:8080/",
          "height": 35
        },
        "id": "y_tmX_gPfzW1",
        "outputId": "b2b6deb9-b3b2-41ee-c164-93a5c543e0e9"
      },
      "execution_count": null,
      "outputs": [
        {
          "output_type": "execute_result",
          "data": {
            "text/plain": [
              "'fro'"
            ],
            "application/vnd.google.colaboratory.intrinsic+json": {
              "type": "string"
            }
          },
          "metadata": {},
          "execution_count": 51
        }
      ]
    },
    {
      "cell_type": "code",
      "source": [
        "say[:10]"
      ],
      "metadata": {
        "colab": {
          "base_uri": "https://localhost:8080/",
          "height": 35
        },
        "id": "x00Q1YVdf1B0",
        "outputId": "fbf11a2f-f2e8-4e1c-99ab-5044e80e870b"
      },
      "execution_count": null,
      "outputs": [
        {
          "output_type": "execute_result",
          "data": {
            "text/plain": [
              "'Hi from Le'"
            ],
            "application/vnd.google.colaboratory.intrinsic+json": {
              "type": "string"
            }
          },
          "metadata": {},
          "execution_count": 52
        }
      ]
    },
    {
      "cell_type": "code",
      "source": [
        "say[4:]"
      ],
      "metadata": {
        "colab": {
          "base_uri": "https://localhost:8080/",
          "height": 35
        },
        "id": "pg-ohaWjf2qA",
        "outputId": "df35caf2-b808-4026-9fe4-fe94d22da490"
      },
      "execution_count": null,
      "outputs": [
        {
          "output_type": "execute_result",
          "data": {
            "text/plain": [
              "'rom LetsUpgrade!'"
            ],
            "application/vnd.google.colaboratory.intrinsic+json": {
              "type": "string"
            }
          },
          "metadata": {},
          "execution_count": 53
        }
      ]
    },
    {
      "cell_type": "code",
      "source": [
        "say[1:11:3]"
      ],
      "metadata": {
        "colab": {
          "base_uri": "https://localhost:8080/",
          "height": 35
        },
        "id": "xebtqzZWf42B",
        "outputId": "294a1ad0-9206-4865-eb38-e3826707ee54"
      },
      "execution_count": null,
      "outputs": [
        {
          "output_type": "execute_result",
          "data": {
            "text/plain": [
              "'ir t'"
            ],
            "application/vnd.google.colaboratory.intrinsic+json": {
              "type": "string"
            }
          },
          "metadata": {},
          "execution_count": 54
        }
      ]
    },
    {
      "cell_type": "code",
      "source": [
        "say[::-1]\n"
      ],
      "metadata": {
        "colab": {
          "base_uri": "https://localhost:8080/",
          "height": 35
        },
        "id": "eN66p2Myf991",
        "outputId": "670c2698-70e7-4b58-d78e-d7c8b22939f7"
      },
      "execution_count": null,
      "outputs": [
        {
          "output_type": "execute_result",
          "data": {
            "text/plain": [
              "'!edargpUsteL morf iH'"
            ],
            "application/vnd.google.colaboratory.intrinsic+json": {
              "type": "string"
            }
          },
          "metadata": {},
          "execution_count": 56
        }
      ]
    },
    {
      "cell_type": "markdown",
      "source": [
        "#Python String Operations"
      ],
      "metadata": {
        "id": "_oi-5hKugT7Y"
      }
    },
    {
      "cell_type": "code",
      "source": [
        "x = \"This is \"\n",
        "y = \"Python\"\n",
        "z = x + y + '.'\n",
        "print(z)"
      ],
      "metadata": {
        "colab": {
          "base_uri": "https://localhost:8080/"
        },
        "id": "DTDXLJJUf-OZ",
        "outputId": "a3fc8378-b1f8-405a-aa6e-c76d6008868b"
      },
      "execution_count": null,
      "outputs": [
        {
          "output_type": "stream",
          "name": "stdout",
          "text": [
            "This is Python.\n"
          ]
        }
      ]
    },
    {
      "cell_type": "code",
      "source": [
        "x = 3 * \"Hi!\"\n",
        "print(x)"
      ],
      "metadata": {
        "colab": {
          "base_uri": "https://localhost:8080/"
        },
        "id": "yluiM4CygZmP",
        "outputId": "d1f75899-48c5-466f-ce14-5c092ba253f2"
      },
      "execution_count": null,
      "outputs": [
        {
          "output_type": "stream",
          "name": "stdout",
          "text": [
            "Hi!Hi!Hi!\n"
          ]
        }
      ]
    },
    {
      "cell_type": "code",
      "source": [
        "y = \"Go!\" * 3\n",
        "print(y)"
      ],
      "metadata": {
        "colab": {
          "base_uri": "https://localhost:8080/"
        },
        "id": "7T-I4q_tgc-z",
        "outputId": "da8ed607-0486-472a-e7ca-e9ffb11d8eef"
      },
      "execution_count": null,
      "outputs": [
        {
          "output_type": "stream",
          "name": "stdout",
          "text": [
            "Go!Go!Go!\n"
          ]
        }
      ]
    },
    {
      "cell_type": "code",
      "source": [
        "s = \"heLLo BuDdY\"\n",
        "s2 = s.capitalize()\n",
        "print(s2)"
      ],
      "metadata": {
        "colab": {
          "base_uri": "https://localhost:8080/"
        },
        "id": "Sw17Tw-7ggis",
        "outputId": "4ddfe9d8-fad6-476f-900d-7df365eaf2df"
      },
      "execution_count": null,
      "outputs": [
        {
          "output_type": "stream",
          "name": "stdout",
          "text": [
            "Hello buddy\n"
          ]
        }
      ]
    },
    {
      "cell_type": "code",
      "source": [
        "s = \"heLLo BuDdY\"\n",
        "s2 = s.capitalize()\n",
        "print(s2)"
      ],
      "metadata": {
        "colab": {
          "base_uri": "https://localhost:8080/"
        },
        "id": "vjFHLq2wgk_h",
        "outputId": "11182c4a-eb92-4296-e465-1f6de4a5d97a"
      },
      "execution_count": null,
      "outputs": [
        {
          "output_type": "stream",
          "name": "stdout",
          "text": [
            "Hello buddy\n"
          ]
        }
      ]
    },
    {
      "cell_type": "code",
      "source": [
        "s = \"heLLo BuDdY\"\n",
        "s2 = s.upper()\n",
        "print(s2)"
      ],
      "metadata": {
        "colab": {
          "base_uri": "https://localhost:8080/"
        },
        "id": "pXXstczLgofp",
        "outputId": "62d061c1-dfaa-4e65-a7ce-4e9f6ccbb15a"
      },
      "execution_count": null,
      "outputs": [
        {
          "output_type": "stream",
          "name": "stdout",
          "text": [
            "hello buddy\n"
          ]
        }
      ]
    },
    {
      "cell_type": "code",
      "source": [
        "s = \"heLLo BuDdY\"\n",
        "s2 = s.title()\n",
        "print(s2)"
      ],
      "metadata": {
        "colab": {
          "base_uri": "https://localhost:8080/"
        },
        "id": "ascge-A1grWW",
        "outputId": "68806314-c07a-4750-97bd-b448a3319149"
      },
      "execution_count": null,
      "outputs": [
        {
          "output_type": "stream",
          "name": "stdout",
          "text": [
            "Hello Buddy\n"
          ]
        }
      ]
    },
    {
      "cell_type": "code",
      "source": [
        "s = \"heLLo BuDdY\"\n",
        "s2 = s.swapcase()\n",
        "print(s2)"
      ],
      "metadata": {
        "colab": {
          "base_uri": "https://localhost:8080/"
        },
        "id": "hty32oT7guhf",
        "outputId": "5e17d7c0-9209-4763-e43b-0132feae43eb"
      },
      "execution_count": null,
      "outputs": [
        {
          "output_type": "stream",
          "name": "stdout",
          "text": [
            "HEllO bUdDy\n"
          ]
        }
      ]
    },
    {
      "cell_type": "code",
      "source": [
        "s = 'Dread Thread Spread'\n",
        "s.count('e')"
      ],
      "metadata": {
        "colab": {
          "base_uri": "https://localhost:8080/"
        },
        "id": "4QqW_oIbgyoZ",
        "outputId": "f3d77915-2290-4a06-d78b-37e2f702f71e"
      },
      "execution_count": null,
      "outputs": [
        {
          "output_type": "execute_result",
          "data": {
            "text/plain": [
              "3"
            ]
          },
          "metadata": {},
          "execution_count": 65
        }
      ]
    },
    {
      "cell_type": "code",
      "source": [
        "s.count('rea')"
      ],
      "metadata": {
        "colab": {
          "base_uri": "https://localhost:8080/"
        },
        "id": "R-rgAV7Pg5xf",
        "outputId": "1ba99741-768c-47e0-bf3b-97d0831c99a1"
      },
      "execution_count": null,
      "outputs": [
        {
          "output_type": "execute_result",
          "data": {
            "text/plain": [
              "3"
            ]
          },
          "metadata": {},
          "execution_count": 66
        }
      ]
    },
    {
      "cell_type": "code",
      "source": [
        "s.count('e', 4, 18)"
      ],
      "metadata": {
        "colab": {
          "base_uri": "https://localhost:8080/"
        },
        "id": "fuLTzY3zg8BY",
        "outputId": "67de2a43-bcf3-429b-fc4b-c25047465742"
      },
      "execution_count": null,
      "outputs": [
        {
          "output_type": "execute_result",
          "data": {
            "text/plain": [
              "2"
            ]
          },
          "metadata": {},
          "execution_count": 67
        }
      ]
    },
    {
      "cell_type": "code",
      "source": [
        "#s.find(<sub>[, <start>[, <end>]])"
      ],
      "metadata": {
        "id": "XQEiBVqpg8Tz"
      },
      "execution_count": null,
      "outputs": []
    },
    {
      "cell_type": "code",
      "source": [
        "s = 'Dread Thread Spread'\n",
        "s.count('e')\n"
      ],
      "metadata": {
        "colab": {
          "base_uri": "https://localhost:8080/"
        },
        "id": "I7HK59H_hOIg",
        "outputId": "45514b17-5e64-49f0-d876-44a00da8ffb4"
      },
      "execution_count": null,
      "outputs": [
        {
          "output_type": "execute_result",
          "data": {
            "text/plain": [
              "3"
            ]
          },
          "metadata": {},
          "execution_count": 70
        }
      ]
    },
    {
      "cell_type": "code",
      "source": [
        "s.count('rea')"
      ],
      "metadata": {
        "colab": {
          "base_uri": "https://localhost:8080/"
        },
        "id": "Rvg620pwhU37",
        "outputId": "75191b5f-b682-4592-f9e8-19ee4753cc04"
      },
      "execution_count": null,
      "outputs": [
        {
          "output_type": "execute_result",
          "data": {
            "text/plain": [
              "3"
            ]
          },
          "metadata": {},
          "execution_count": 71
        }
      ]
    },
    {
      "cell_type": "code",
      "source": [
        "s.count('e', 4, 18)"
      ],
      "metadata": {
        "colab": {
          "base_uri": "https://localhost:8080/"
        },
        "id": "RWWU8oQ0hWbn",
        "outputId": "5b8d09c8-1a22-45d4-fb83-f73587656d6a"
      },
      "execution_count": null,
      "outputs": [
        {
          "output_type": "execute_result",
          "data": {
            "text/plain": [
              "2"
            ]
          },
          "metadata": {},
          "execution_count": 72
        }
      ]
    },
    {
      "cell_type": "code",
      "source": [
        "s = 'Dread Thread Spread'\n",
        "s.find('Thr')"
      ],
      "metadata": {
        "colab": {
          "base_uri": "https://localhost:8080/"
        },
        "id": "h7FWoOeKhWmy",
        "outputId": "619b99d7-f79d-46c2-dc43-8d063d530b61"
      },
      "execution_count": null,
      "outputs": [
        {
          "output_type": "execute_result",
          "data": {
            "text/plain": [
              "6"
            ]
          },
          "metadata": {},
          "execution_count": 73
        }
      ]
    },
    {
      "cell_type": "code",
      "source": [
        "s.find('rea')"
      ],
      "metadata": {
        "colab": {
          "base_uri": "https://localhost:8080/"
        },
        "id": "2hvrIjeHhdJc",
        "outputId": "0ef8018c-4dcd-41c0-c803-9e6f89999b03"
      },
      "execution_count": null,
      "outputs": [
        {
          "output_type": "execute_result",
          "data": {
            "text/plain": [
              "1"
            ]
          },
          "metadata": {},
          "execution_count": 74
        }
      ]
    },
    {
      "cell_type": "code",
      "source": [
        "s.find('x')\n"
      ],
      "metadata": {
        "colab": {
          "base_uri": "https://localhost:8080/"
        },
        "id": "McorXtKIhgLu",
        "outputId": "649117b5-ca13-4e78-8935-ed18cea24011"
      },
      "execution_count": null,
      "outputs": [
        {
          "output_type": "execute_result",
          "data": {
            "text/plain": [
              "-1"
            ]
          },
          "metadata": {},
          "execution_count": 75
        }
      ]
    },
    {
      "cell_type": "code",
      "source": [
        "s = \"Tech50\"\n",
        "s.isalnum()"
      ],
      "metadata": {
        "colab": {
          "base_uri": "https://localhost:8080/"
        },
        "id": "nU4vjK-4hiKX",
        "outputId": "cda2ef8c-1991-4ef8-a323-136d6dd12348"
      },
      "execution_count": null,
      "outputs": [
        {
          "output_type": "execute_result",
          "data": {
            "text/plain": [
              "True"
            ]
          },
          "metadata": {},
          "execution_count": 76
        }
      ]
    },
    {
      "cell_type": "code",
      "source": [
        "s = \"Tech\"\n",
        "s.isalnum()"
      ],
      "metadata": {
        "colab": {
          "base_uri": "https://localhost:8080/"
        },
        "id": "WiyKBp4Yhpvg",
        "outputId": "873eae58-ad34-4bf6-d39a-834e7233cbe4"
      },
      "execution_count": null,
      "outputs": [
        {
          "output_type": "execute_result",
          "data": {
            "text/plain": [
              "True"
            ]
          },
          "metadata": {},
          "execution_count": 77
        }
      ]
    },
    {
      "cell_type": "code",
      "source": [
        "s = \"678\"\n",
        "s.isalnum()"
      ],
      "metadata": {
        "colab": {
          "base_uri": "https://localhost:8080/"
        },
        "id": "9Z1oTO7phsJM",
        "outputId": "e7e7af53-c87d-4a5b-8f93-b8b122f54d72"
      },
      "execution_count": null,
      "outputs": [
        {
          "output_type": "execute_result",
          "data": {
            "text/plain": [
              "True"
            ]
          },
          "metadata": {},
          "execution_count": 78
        }
      ]
    },
    {
      "cell_type": "code",
      "source": [
        "s = \"Letsupgrade\"\n",
        "s2 = \"Tech50\"\n"
      ],
      "metadata": {
        "id": "31egy6b0hsV2"
      },
      "execution_count": null,
      "outputs": []
    },
    {
      "cell_type": "code",
      "source": [
        "s.isalpha()"
      ],
      "metadata": {
        "colab": {
          "base_uri": "https://localhost:8080/"
        },
        "id": "5QzkJ9YthzU1",
        "outputId": "3d48cddc-fcd5-4ba0-b9f3-9ca19ecac7ca"
      },
      "execution_count": null,
      "outputs": [
        {
          "output_type": "execute_result",
          "data": {
            "text/plain": [
              "True"
            ]
          },
          "metadata": {},
          "execution_count": 80
        }
      ]
    },
    {
      "cell_type": "code",
      "source": [
        "s2.isalpha()\n"
      ],
      "metadata": {
        "colab": {
          "base_uri": "https://localhost:8080/"
        },
        "id": "c9i62ee7h1bj",
        "outputId": "fe64b3cb-a603-468d-eddb-ceab369126b4"
      },
      "execution_count": null,
      "outputs": [
        {
          "output_type": "execute_result",
          "data": {
            "text/plain": [
              "False"
            ]
          },
          "metadata": {},
          "execution_count": 81
        }
      ]
    },
    {
      "cell_type": "code",
      "source": [
        "s1 = \"Tech50\"\n",
        "s2 = \"56748\"\n",
        "s1.isdigit()"
      ],
      "metadata": {
        "colab": {
          "base_uri": "https://localhost:8080/"
        },
        "id": "NHN7JJEkh1q6",
        "outputId": "647b109b-d8e8-45cf-c70f-d29747037835"
      },
      "execution_count": null,
      "outputs": [
        {
          "output_type": "execute_result",
          "data": {
            "text/plain": [
              "False"
            ]
          },
          "metadata": {},
          "execution_count": 82
        }
      ]
    },
    {
      "cell_type": "code",
      "source": [
        "s2.isdigit()\n"
      ],
      "metadata": {
        "colab": {
          "base_uri": "https://localhost:8080/"
        },
        "id": "Jq_GhHVOh76Y",
        "outputId": "00b115d8-d611-46b0-b1b0-cac72a8565f6"
      },
      "execution_count": null,
      "outputs": [
        {
          "output_type": "execute_result",
          "data": {
            "text/plain": [
              "True"
            ]
          },
          "metadata": {},
          "execution_count": 83
        }
      ]
    },
    {
      "cell_type": "code",
      "source": [
        "s1 = \"Tech\"\n",
        "s2 = \"tech\"\n",
        "s1.islower()"
      ],
      "metadata": {
        "colab": {
          "base_uri": "https://localhost:8080/"
        },
        "id": "WmBhP3T8h8Fs",
        "outputId": "07d4258b-706e-4ebb-8b9f-39ade87e2f2b"
      },
      "execution_count": null,
      "outputs": [
        {
          "output_type": "execute_result",
          "data": {
            "text/plain": [
              "False"
            ]
          },
          "metadata": {},
          "execution_count": 84
        }
      ]
    },
    {
      "cell_type": "code",
      "source": [
        "s2.islower()"
      ],
      "metadata": {
        "colab": {
          "base_uri": "https://localhost:8080/"
        },
        "id": "hiutAWcbiB8M",
        "outputId": "7108ba6b-2fef-4ede-d8e3-a87875f35f18"
      },
      "execution_count": null,
      "outputs": [
        {
          "output_type": "execute_result",
          "data": {
            "text/plain": [
              "True"
            ]
          },
          "metadata": {},
          "execution_count": 85
        }
      ]
    },
    {
      "cell_type": "code",
      "source": [
        "s1 = \"Tech\"\n",
        "s2 = \"TECH\"\n",
        "s1.isupper()"
      ],
      "metadata": {
        "colab": {
          "base_uri": "https://localhost:8080/"
        },
        "id": "1XbRbGMjiCIl",
        "outputId": "eefab216-f1b3-4ec7-aa40-893155d21fcb"
      },
      "execution_count": null,
      "outputs": [
        {
          "output_type": "execute_result",
          "data": {
            "text/plain": [
              "False"
            ]
          },
          "metadata": {},
          "execution_count": 86
        }
      ]
    },
    {
      "cell_type": "code",
      "source": [
        "s2.isupper()"
      ],
      "metadata": {
        "colab": {
          "base_uri": "https://localhost:8080/"
        },
        "id": "gLI_wz74iJmF",
        "outputId": "15386950-c650-446a-a870-5b421c7c1a75"
      },
      "execution_count": null,
      "outputs": [
        {
          "output_type": "execute_result",
          "data": {
            "text/plain": [
              "True"
            ]
          },
          "metadata": {},
          "execution_count": 87
        }
      ]
    },
    {
      "cell_type": "code",
      "source": [
        "s = \"   Techvidvan   \"\n",
        "s.lstrip()"
      ],
      "metadata": {
        "colab": {
          "base_uri": "https://localhost:8080/",
          "height": 35
        },
        "id": "4K6YxsGmiK-a",
        "outputId": "f690ca9e-b4ff-4994-cd88-0f3d816cf0f2"
      },
      "execution_count": null,
      "outputs": [
        {
          "output_type": "execute_result",
          "data": {
            "text/plain": [
              "'Techvidvan   '"
            ],
            "application/vnd.google.colaboratory.intrinsic+json": {
              "type": "string"
            }
          },
          "metadata": {},
          "execution_count": 88
        }
      ]
    },
    {
      "cell_type": "code",
      "source": [
        "s.rstrip()"
      ],
      "metadata": {
        "colab": {
          "base_uri": "https://localhost:8080/",
          "height": 35
        },
        "id": "tMz7QA8VikQa",
        "outputId": "d5cd2bef-90a9-46ce-dcc0-d8d0042ca04e"
      },
      "execution_count": null,
      "outputs": [
        {
          "output_type": "execute_result",
          "data": {
            "text/plain": [
              "'   Techvidvan'"
            ],
            "application/vnd.google.colaboratory.intrinsic+json": {
              "type": "string"
            }
          },
          "metadata": {},
          "execution_count": 89
        }
      ]
    },
    {
      "cell_type": "code",
      "source": [
        "s.strip()"
      ],
      "metadata": {
        "colab": {
          "base_uri": "https://localhost:8080/",
          "height": 35
        },
        "id": "c4JMnIfVimwu",
        "outputId": "75a63671-3311-4871-b02c-2a2b0f3286e3"
      },
      "execution_count": null,
      "outputs": [
        {
          "output_type": "execute_result",
          "data": {
            "text/plain": [
              "'Techvidvan'"
            ],
            "application/vnd.google.colaboratory.intrinsic+json": {
              "type": "string"
            }
          },
          "metadata": {},
          "execution_count": 90
        }
      ]
    },
    {
      "cell_type": "code",
      "source": [
        "s1 = ' '.join(['We', 'are', 'Coders'])\n",
        "print(s1)\n",
        "\n",
        "s2 = ':'.join(['We', 'are', 'Coders'])\n",
        "print(s2)\n"
      ],
      "metadata": {
        "colab": {
          "base_uri": "https://localhost:8080/"
        },
        "id": "Ln4SyiTKipdh",
        "outputId": "5061404b-23f6-4963-ae16-b9812e6c132d"
      },
      "execution_count": null,
      "outputs": [
        {
          "output_type": "stream",
          "name": "stdout",
          "text": [
            "We are Coders\n",
            "We:are:Coders\n"
          ]
        }
      ]
    },
    {
      "cell_type": "code",
      "source": [
        "l = 'we are      coders'.split()\n",
        "print(l)\n",
        "['we', 'are', 'coders']\n",
        "l = 'we are      coders'.split('e')\n",
        "print(l)\n"
      ],
      "metadata": {
        "colab": {
          "base_uri": "https://localhost:8080/"
        },
        "id": "pAW95oM0iwNA",
        "outputId": "edb9704c-604c-40ca-91bb-d66f824f5e02"
      },
      "execution_count": null,
      "outputs": [
        {
          "output_type": "stream",
          "name": "stdout",
          "text": [
            "['we', 'are', 'coders']\n",
            "['w', ' ar', '      cod', 'rs']\n"
          ]
        }
      ]
    },
    {
      "cell_type": "markdown",
      "source": [
        "#Python List Functions"
      ],
      "metadata": {
        "id": "AdKKsj0-j2ga"
      }
    },
    {
      "cell_type": "code",
      "source": [
        "currencies = ['Dollar', 'Euro', 'Pound']\n",
        "\n",
        "currencies.append('Yen')\n",
        "\n",
        "print(currencies)\n"
      ],
      "metadata": {
        "colab": {
          "base_uri": "https://localhost:8080/"
        },
        "id": "2_02fSqki6t4",
        "outputId": "335fa81b-a80d-4ab7-a697-37f126f96bff"
      },
      "execution_count": null,
      "outputs": [
        {
          "output_type": "stream",
          "name": "stdout",
          "text": [
            "['Dollar', 'Euro', 'Pound', 'Yen']\n"
          ]
        }
      ]
    },
    {
      "cell_type": "code",
      "source": [
        "animals = ['cat', 'dog', 'rabbit']\n",
        "\n",
        "wild_animals = ['tiger', 'fox']\n",
        "\n",
        "animals.append(wild_animals)\n",
        "\n",
        "print('Updated animals list: ', animals)"
      ],
      "metadata": {
        "colab": {
          "base_uri": "https://localhost:8080/"
        },
        "id": "H74jZBCEka6y",
        "outputId": "e4e90991-673e-4eac-f0ec-798fded7b73d"
      },
      "execution_count": null,
      "outputs": [
        {
          "output_type": "stream",
          "name": "stdout",
          "text": [
            "Updated animals list:  ['cat', 'dog', 'rabbit', ['tiger', 'fox']]\n"
          ]
        }
      ]
    },
    {
      "cell_type": "code",
      "source": [
        "animals = ['cat', 'dog', 'rabbit', 'horse']\n",
        "\n",
        "index = animals.index('dog')\n",
        "\n",
        "print(index)"
      ],
      "metadata": {
        "colab": {
          "base_uri": "https://localhost:8080/"
        },
        "id": "s2kWy1BDlSLO",
        "outputId": "6a1572e7-294e-4bb1-abfb-67034e6ede99"
      },
      "execution_count": null,
      "outputs": [
        {
          "output_type": "stream",
          "name": "stdout",
          "text": [
            "1\n"
          ]
        }
      ]
    },
    {
      "cell_type": "code",
      "source": [
        "prime_numbers = [2, 3, 5]\n",
        "\n",
        "numbers = [1, 4]\n",
        "\n",
        "numbers.extend(prime_numbers)\n",
        "\n",
        "\n",
        "print('List after extend():', numbers)\n"
      ],
      "metadata": {
        "colab": {
          "base_uri": "https://localhost:8080/"
        },
        "id": "BqrT9u8_lY4Y",
        "outputId": "c201b7b3-262c-4357-984c-a8c533dbfe03"
      },
      "execution_count": null,
      "outputs": [
        {
          "output_type": "stream",
          "name": "stdout",
          "text": [
            "List after extend(): [1, 4, 2, 3, 5]\n"
          ]
        }
      ]
    },
    {
      "cell_type": "code",
      "source": [
        "vowel = ['a', 'e', 'i', 'u']\n",
        "\n",
        "vowel.insert(3, 'o')\n",
        "\n",
        "\n",
        "print('List:', vowel)\n"
      ],
      "metadata": {
        "colab": {
          "base_uri": "https://localhost:8080/"
        },
        "id": "IbXhSyVOlhGC",
        "outputId": "78af70dc-0e62-4924-994f-2ef2cbe9066f"
      },
      "execution_count": null,
      "outputs": [
        {
          "output_type": "stream",
          "name": "stdout",
          "text": [
            "List: ['a', 'e', 'i', 'o', 'u']\n"
          ]
        }
      ]
    },
    {
      "cell_type": "code",
      "source": [
        "prime_numbers = [2, 3, 5, 7, 9, 11]\n",
        "\n",
        "prime_numbers.remove(9)\n",
        "\n",
        "\n",
        "print('Updated List: ', prime_numbers)"
      ],
      "metadata": {
        "colab": {
          "base_uri": "https://localhost:8080/"
        },
        "id": "JihE0QsWloR6",
        "outputId": "642af5e2-8f47-45f0-82be-6c01676c3ade"
      },
      "execution_count": null,
      "outputs": [
        {
          "output_type": "stream",
          "name": "stdout",
          "text": [
            "Updated List:  [2, 3, 5, 7, 11]\n"
          ]
        }
      ]
    },
    {
      "cell_type": "code",
      "source": [
        "numbers = [2, 3, 5, 2, 11, 2, 7]\n",
        "\n",
        "count = numbers.count(2)\n",
        "\n",
        "\n",
        "print('Count of 2:', count)\n"
      ],
      "metadata": {
        "colab": {
          "base_uri": "https://localhost:8080/"
        },
        "id": "5FRYg9tMluQl",
        "outputId": "fcfdb6d4-99b8-45f0-d4ed-4adf9a5eee4b"
      },
      "execution_count": null,
      "outputs": [
        {
          "output_type": "stream",
          "name": "stdout",
          "text": [
            "Count of 2: 3\n"
          ]
        }
      ]
    },
    {
      "cell_type": "code",
      "source": [
        "prime_numbers = [2, 3, 5, 7]\n",
        "\n",
        "removed_element = prime_numbers.pop(2)\n",
        "\n",
        "print('Removed Element:', removed_element)\n",
        "print('Updated List:', prime_numbers)\n"
      ],
      "metadata": {
        "colab": {
          "base_uri": "https://localhost:8080/"
        },
        "id": "PBIhcs6SmHWZ",
        "outputId": "66ef8e0f-97aa-48ce-9123-8ffc42b5a06e"
      },
      "execution_count": null,
      "outputs": [
        {
          "output_type": "stream",
          "name": "stdout",
          "text": [
            "Removed Element: 5\n",
            "Updated List: [2, 3, 7]\n"
          ]
        }
      ]
    },
    {
      "cell_type": "code",
      "source": [
        "prime_numbers = [2, 3, 5, 7]\n",
        "\n",
        "prime_numbers.reverse()\n",
        "\n",
        "\n",
        "print('Reversed List:', prime_numbers)"
      ],
      "metadata": {
        "colab": {
          "base_uri": "https://localhost:8080/"
        },
        "id": "As2uwA45mO37",
        "outputId": "784c3ba3-36ec-4543-87c3-aabe86ae9030"
      },
      "execution_count": null,
      "outputs": [
        {
          "output_type": "stream",
          "name": "stdout",
          "text": [
            "Reversed List: [7, 5, 3, 2]\n"
          ]
        }
      ]
    },
    {
      "cell_type": "code",
      "source": [
        "prime_numbers = [11, 3, 7, 5, 2]\n",
        "\n",
        "prime_numbers.sort()\n",
        "\n",
        "print(prime_numbers)\n"
      ],
      "metadata": {
        "colab": {
          "base_uri": "https://localhost:8080/"
        },
        "id": "eyet6_35mUH_",
        "outputId": "14310a4a-13e3-408a-ceeb-bfd8b6491a81"
      },
      "execution_count": null,
      "outputs": [
        {
          "output_type": "stream",
          "name": "stdout",
          "text": [
            "[2, 3, 5, 7, 11]\n"
          ]
        }
      ]
    },
    {
      "cell_type": "code",
      "source": [
        "prime_numbers = [2, 3, 5]\n",
        "\n",
        "numbers = prime_numbers.copy()\n",
        "\n",
        "\n",
        "print('Copied List:', numbers)\n"
      ],
      "metadata": {
        "colab": {
          "base_uri": "https://localhost:8080/"
        },
        "id": "VuTJlumwmdMu",
        "outputId": "15a69648-fdf0-455d-912b-49fe9d80d2b0"
      },
      "execution_count": null,
      "outputs": [
        {
          "output_type": "stream",
          "name": "stdout",
          "text": [
            "Copied List: [2, 3, 5]\n"
          ]
        }
      ]
    },
    {
      "cell_type": "code",
      "source": [
        "prime_numbers = [2, 3, 5, 7, 9, 11]\n",
        "\n",
        "prime_numbers.clear()\n",
        "\n",
        "print('List after clear():', prime_numbers)\n"
      ],
      "metadata": {
        "colab": {
          "base_uri": "https://localhost:8080/"
        },
        "id": "FWiGHr-lmhuX",
        "outputId": "ce87c201-32e2-4267-8e7e-1b1b35dc8d95"
      },
      "execution_count": null,
      "outputs": [
        {
          "output_type": "stream",
          "name": "stdout",
          "text": [
            "List after clear(): []\n"
          ]
        }
      ]
    },
    {
      "cell_type": "markdown",
      "source": [
        "#Python Set Functions"
      ],
      "metadata": {
        "id": "tWbK7p1knVkl"
      }
    },
    {
      "cell_type": "code",
      "source": [
        "my_set = {1, 3}\n",
        "print(my_set)"
      ],
      "metadata": {
        "colab": {
          "base_uri": "https://localhost:8080/"
        },
        "id": "zpYr6YSIml2P",
        "outputId": "d2289e62-2151-40f5-b725-c9dc1c37cfea"
      },
      "execution_count": null,
      "outputs": [
        {
          "output_type": "stream",
          "name": "stdout",
          "text": [
            "{1, 3}\n"
          ]
        }
      ]
    },
    {
      "cell_type": "code",
      "source": [
        "my_set.add(2)\n",
        "print(my_set)"
      ],
      "metadata": {
        "colab": {
          "base_uri": "https://localhost:8080/"
        },
        "id": "uKZI9KpZnaua",
        "outputId": "f03efd5b-6453-484e-9f1d-1d43c5963f7a"
      },
      "execution_count": null,
      "outputs": [
        {
          "output_type": "stream",
          "name": "stdout",
          "text": [
            "{1, 2, 3}\n"
          ]
        }
      ]
    },
    {
      "cell_type": "code",
      "source": [
        "my_set.update([2, 3, 4])\n",
        "print(my_set)"
      ],
      "metadata": {
        "colab": {
          "base_uri": "https://localhost:8080/"
        },
        "id": "6nHcPty0nb5L",
        "outputId": "88b972c9-38f7-4295-8206-ad9b458d01da"
      },
      "execution_count": null,
      "outputs": [
        {
          "output_type": "stream",
          "name": "stdout",
          "text": [
            "{1, 2, 3, 4}\n"
          ]
        }
      ]
    },
    {
      "cell_type": "code",
      "source": [
        "my_set.update([4, 5], {1, 6, 8})\n",
        "print(my_set)"
      ],
      "metadata": {
        "colab": {
          "base_uri": "https://localhost:8080/"
        },
        "id": "t1kAdbnynd_k",
        "outputId": "7370eeb4-9177-4bb8-b36d-db7eb1d57072"
      },
      "execution_count": null,
      "outputs": [
        {
          "output_type": "stream",
          "name": "stdout",
          "text": [
            "{1, 2, 3, 4, 5, 6, 8}\n"
          ]
        }
      ]
    },
    {
      "cell_type": "code",
      "source": [
        "my_set = {1, 3, 4, 5, 6}\n",
        "print(my_set)"
      ],
      "metadata": {
        "colab": {
          "base_uri": "https://localhost:8080/"
        },
        "id": "rg6wPf5Wngj5",
        "outputId": "07fa037d-b327-440f-f47f-151611309fab"
      },
      "execution_count": null,
      "outputs": [
        {
          "output_type": "stream",
          "name": "stdout",
          "text": [
            "{1, 3, 4, 5, 6}\n"
          ]
        }
      ]
    },
    {
      "cell_type": "code",
      "source": [
        "my_set.discard(4)\n",
        "print(my_set)"
      ],
      "metadata": {
        "colab": {
          "base_uri": "https://localhost:8080/"
        },
        "id": "xf7SUdl0nsuu",
        "outputId": "c1512ecb-7a79-447f-a264-4aae294c65a9"
      },
      "execution_count": null,
      "outputs": [
        {
          "output_type": "stream",
          "name": "stdout",
          "text": [
            "{1, 3, 5, 6}\n"
          ]
        }
      ]
    },
    {
      "cell_type": "code",
      "source": [
        "my_set.remove(6)\n",
        "print(my_set)"
      ],
      "metadata": {
        "colab": {
          "base_uri": "https://localhost:8080/"
        },
        "id": "uX4sX6cZnwG4",
        "outputId": "d8e99687-0369-418d-d025-9ce98c869efc"
      },
      "execution_count": null,
      "outputs": [
        {
          "output_type": "stream",
          "name": "stdout",
          "text": [
            "{1, 3, 5}\n"
          ]
        }
      ]
    },
    {
      "cell_type": "code",
      "source": [
        "my_set.discard(2)\n",
        "print(my_set)\n"
      ],
      "metadata": {
        "colab": {
          "base_uri": "https://localhost:8080/"
        },
        "id": "1XPePu3vnzDM",
        "outputId": "53fc6f35-3fa6-4b15-d58f-5021996c8ae8"
      },
      "execution_count": null,
      "outputs": [
        {
          "output_type": "stream",
          "name": "stdout",
          "text": [
            "{1, 3, 5}\n"
          ]
        }
      ]
    },
    {
      "cell_type": "code",
      "source": [
        "my_set.remove(1)"
      ],
      "metadata": {
        "id": "xZo8V-Sin2AE"
      },
      "execution_count": null,
      "outputs": []
    },
    {
      "cell_type": "code",
      "source": [
        "my_set"
      ],
      "metadata": {
        "colab": {
          "base_uri": "https://localhost:8080/"
        },
        "id": "OFGx6KBYn2lF",
        "outputId": "a8ac645e-c5d1-46a9-e43d-daab1a4ae68f"
      },
      "execution_count": null,
      "outputs": [
        {
          "output_type": "execute_result",
          "data": {
            "text/plain": [
              "{3, 5}"
            ]
          },
          "metadata": {},
          "execution_count": 115
        }
      ]
    },
    {
      "cell_type": "markdown",
      "source": [
        "#Python Dictionary Functions"
      ],
      "metadata": {
        "id": "I_UT7mteo6ML"
      }
    },
    {
      "cell_type": "code",
      "source": [
        "my_dict = {'name': 'Jack', 'age': 26}\n",
        "\n",
        "print(my_dict['name'])\n",
        "\n",
        "print(my_dict.get('age'))\n",
        "\n",
        "print(my_dict.get('address'))\n"
      ],
      "metadata": {
        "colab": {
          "base_uri": "https://localhost:8080/"
        },
        "id": "a-U3xBVToQy6",
        "outputId": "cd0f1da1-0cac-4ffd-bb4f-3ad1278d6238"
      },
      "execution_count": null,
      "outputs": [
        {
          "output_type": "stream",
          "name": "stdout",
          "text": [
            "Jack\n",
            "26\n",
            "None\n"
          ]
        }
      ]
    },
    {
      "cell_type": "code",
      "source": [
        "print(my_dict['address'])"
      ],
      "metadata": {
        "colab": {
          "base_uri": "https://localhost:8080/",
          "height": 165
        },
        "id": "mhaEIn5FpBP-",
        "outputId": "4397cbe4-758e-449c-deb2-071ba79cf0c2"
      },
      "execution_count": null,
      "outputs": [
        {
          "output_type": "error",
          "ename": "KeyError",
          "evalue": "ignored",
          "traceback": [
            "\u001b[0;31m---------------------------------------------------------------------------\u001b[0m",
            "\u001b[0;31mKeyError\u001b[0m                                  Traceback (most recent call last)",
            "\u001b[0;32m<ipython-input-125-c58f8a4415e2>\u001b[0m in \u001b[0;36m<module>\u001b[0;34m()\u001b[0m\n\u001b[0;32m----> 1\u001b[0;31m \u001b[0mprint\u001b[0m\u001b[0;34m(\u001b[0m\u001b[0mmy_dict\u001b[0m\u001b[0;34m[\u001b[0m\u001b[0;34m'address'\u001b[0m\u001b[0;34m]\u001b[0m\u001b[0;34m)\u001b[0m\u001b[0;34m\u001b[0m\u001b[0;34m\u001b[0m\u001b[0m\n\u001b[0m",
            "\u001b[0;31mKeyError\u001b[0m: 'address'"
          ]
        }
      ]
    },
    {
      "cell_type": "code",
      "source": [
        "my_dict = {'name': 'Jack', 'age': 26}\n",
        "\n",
        "my_dict['age'] = 27\n",
        "\n",
        "print(my_dict)\n",
        "\n",
        "my_dict['address'] = 'Downtown'\n",
        "\n",
        "print(my_dict)"
      ],
      "metadata": {
        "colab": {
          "base_uri": "https://localhost:8080/"
        },
        "id": "95V661dvpDi8",
        "outputId": "346c1ff4-9068-49c3-fef4-327a599e3985"
      },
      "execution_count": null,
      "outputs": [
        {
          "output_type": "stream",
          "name": "stdout",
          "text": [
            "{'name': 'Jack', 'age': 27}\n",
            "{'name': 'Jack', 'age': 27, 'address': 'Downtown'}\n"
          ]
        }
      ]
    },
    {
      "cell_type": "code",
      "source": [
        "squares = {1: 1, 2: 4, 3: 9, 4: 16, 5: 25}\n",
        "\n",
        "print(squares.pop(4))"
      ],
      "metadata": {
        "colab": {
          "base_uri": "https://localhost:8080/"
        },
        "id": "9ucWt4qWpPJb",
        "outputId": "c5213be4-6d22-4b21-897e-f3567331392e"
      },
      "execution_count": null,
      "outputs": [
        {
          "output_type": "stream",
          "name": "stdout",
          "text": [
            "16\n"
          ]
        }
      ]
    },
    {
      "cell_type": "code",
      "source": [
        "squares"
      ],
      "metadata": {
        "colab": {
          "base_uri": "https://localhost:8080/"
        },
        "id": "C2AAOTO-pUvB",
        "outputId": "100aaa34-2b2b-4c08-9d2f-67b030ef6556"
      },
      "execution_count": null,
      "outputs": [
        {
          "output_type": "execute_result",
          "data": {
            "text/plain": [
              "{1: 1, 2: 4, 3: 9, 5: 25}"
            ]
          },
          "metadata": {},
          "execution_count": 133
        }
      ]
    },
    {
      "cell_type": "code",
      "source": [
        "print(squares)\n",
        "\n",
        "squares.clear()"
      ],
      "metadata": {
        "colab": {
          "base_uri": "https://localhost:8080/"
        },
        "id": "gusbhUBapXHs",
        "outputId": "003b04a5-1aba-4c9c-9d37-94c86893b0f6"
      },
      "execution_count": null,
      "outputs": [
        {
          "output_type": "stream",
          "name": "stdout",
          "text": [
            "{1: 1, 2: 4, 3: 9, 5: 25}\n"
          ]
        }
      ]
    },
    {
      "cell_type": "code",
      "source": [
        "squares"
      ],
      "metadata": {
        "colab": {
          "base_uri": "https://localhost:8080/"
        },
        "id": "4RIge7-Tpp8N",
        "outputId": "bb1cb168-7ad3-467d-c382-478cb3ba41d8"
      },
      "execution_count": null,
      "outputs": [
        {
          "output_type": "execute_result",
          "data": {
            "text/plain": [
              "{}"
            ]
          },
          "metadata": {},
          "execution_count": 135
        }
      ]
    },
    {
      "cell_type": "code",
      "source": [
        "del squares"
      ],
      "metadata": {
        "id": "CDAtCI5tpjAH"
      },
      "execution_count": null,
      "outputs": []
    },
    {
      "cell_type": "code",
      "source": [
        "squares"
      ],
      "metadata": {
        "id": "IoSkSZAmpmPU"
      },
      "execution_count": null,
      "outputs": []
    },
    {
      "cell_type": "code",
      "source": [
        "marks = {}.fromkeys(['Math', 'English', 'Science'], 0)\n",
        "\n",
        "print(marks)\n",
        "\n",
        "for item in marks.items():\n",
        "    print(item)\n",
        "\n",
        "print(list(sorted(marks.keys())))"
      ],
      "metadata": {
        "colab": {
          "base_uri": "https://localhost:8080/"
        },
        "id": "BJ0Em4VSpndY",
        "outputId": "9500c5b0-2b93-4ade-b617-d45a8ad4a866"
      },
      "execution_count": null,
      "outputs": [
        {
          "output_type": "stream",
          "name": "stdout",
          "text": [
            "{'Math': 0, 'English': 0, 'Science': 0}\n",
            "('Math', 0)\n",
            "('English', 0)\n",
            "('Science', 0)\n",
            "['English', 'Math', 'Science']\n"
          ]
        }
      ]
    },
    {
      "cell_type": "code",
      "source": [
        "squares = {0: 0, 1: 1, 3: 9, 5: 25, 7: 49, 9: 81}\n",
        "print(len(squares))\n",
        "\n",
        "print(sorted(squares))"
      ],
      "metadata": {
        "colab": {
          "base_uri": "https://localhost:8080/"
        },
        "id": "7cWejkGPpx-G",
        "outputId": "468bcf60-f480-4c87-84e3-85cdcb2a51bb"
      },
      "execution_count": null,
      "outputs": [
        {
          "output_type": "stream",
          "name": "stdout",
          "text": [
            "6\n",
            "[0, 1, 3, 5, 7, 9]\n"
          ]
        }
      ]
    },
    {
      "cell_type": "markdown",
      "source": [
        "#Python Tuples"
      ],
      "metadata": {
        "id": "trRTnYH1qVLP"
      }
    },
    {
      "cell_type": "markdown",
      "source": [
        "**Indexing**"
      ],
      "metadata": {
        "id": "qe71ErqYqYWX"
      }
    },
    {
      "cell_type": "code",
      "source": [
        "my_tuple = ('p','e','r','m','i','t')\n",
        "\n",
        "print(my_tuple[0])\n",
        "print(my_tuple[5])\n",
        "\n",
        "n_tuple = (\"mouse\", [8, 4, 6], (1, 2, 3))\n",
        "\n",
        "print(n_tuple[0][3])\n",
        "print(n_tuple[1][1])"
      ],
      "metadata": {
        "colab": {
          "base_uri": "https://localhost:8080/"
        },
        "id": "xGbWo1aDqAwz",
        "outputId": "62a2814b-d01b-4bdc-c134-d5e0e86906e2"
      },
      "execution_count": null,
      "outputs": [
        {
          "output_type": "stream",
          "name": "stdout",
          "text": [
            "p\n",
            "t\n",
            "s\n",
            "4\n"
          ]
        }
      ]
    },
    {
      "cell_type": "code",
      "source": [
        "my_tuple = ('p', 'e', 'r', 'm', 'i', 't')\n",
        "\n",
        "print(my_tuple[-1])\n",
        "\n",
        "print(my_tuple[-6])"
      ],
      "metadata": {
        "colab": {
          "base_uri": "https://localhost:8080/"
        },
        "id": "P3b3LHoqqiTL",
        "outputId": "09a1e1f1-bb50-4475-b44f-6a388fed7d08"
      },
      "execution_count": null,
      "outputs": [
        {
          "output_type": "stream",
          "name": "stdout",
          "text": [
            "t\n",
            "p\n"
          ]
        }
      ]
    },
    {
      "cell_type": "code",
      "source": [
        "my_tuple = (4, 2, 3, [6, 5])\n",
        "\n",
        "my_tuple[3][0] = 9\n",
        "print(my_tuple)\n",
        "\n",
        "my_tuple = ('p', 'r', 'o', 'g', 'r', 'a', 'm', 'i', 'z')\n",
        "\n",
        "print(my_tuple)"
      ],
      "metadata": {
        "colab": {
          "base_uri": "https://localhost:8080/"
        },
        "id": "pZqHrNk1qtSX",
        "outputId": "3cf27be0-5c0c-496c-d4c4-63519097061c"
      },
      "execution_count": null,
      "outputs": [
        {
          "output_type": "stream",
          "name": "stdout",
          "text": [
            "(4, 2, 3, [9, 5])\n",
            "('p', 'r', 'o', 'g', 'r', 'a', 'm', 'i', 'z')\n"
          ]
        }
      ]
    },
    {
      "cell_type": "code",
      "source": [
        "my_tuple = ('a', 'p', 'p', 'l', 'e',)\n",
        "\n",
        "print('a' in my_tuple)\n",
        "print('b' in my_tuple)\n",
        "\n",
        "print('g' not in my_tuple)"
      ],
      "metadata": {
        "colab": {
          "base_uri": "https://localhost:8080/"
        },
        "id": "Z_y8sCiNq2A3",
        "outputId": "3f1b05ec-70d6-4d82-c6a2-de0da40135be"
      },
      "execution_count": null,
      "outputs": [
        {
          "output_type": "stream",
          "name": "stdout",
          "text": [
            "True\n",
            "False\n",
            "True\n"
          ]
        }
      ]
    },
    {
      "cell_type": "code",
      "source": [
        "for name in ('John', 'Kate'):\n",
        "    print(\"Hello\", name)"
      ],
      "metadata": {
        "colab": {
          "base_uri": "https://localhost:8080/"
        },
        "id": "jsDIwk10rDfT",
        "outputId": "1a968bc4-98d9-428a-d7ac-be6945a7a149"
      },
      "execution_count": null,
      "outputs": [
        {
          "output_type": "stream",
          "name": "stdout",
          "text": [
            "Hello John\n",
            "Hello Kate\n"
          ]
        }
      ]
    },
    {
      "cell_type": "markdown",
      "source": [
        "#Python Loops"
      ],
      "metadata": {
        "id": "v5Vomc_L4eNM"
      }
    },
    {
      "cell_type": "code",
      "source": [
        "fruits = [\"apple\", \"banana\", \"cherry\"]\n",
        "for x in fruits:\n",
        "  print(x)"
      ],
      "metadata": {
        "colab": {
          "base_uri": "https://localhost:8080/"
        },
        "id": "YLN_JakwrGd5",
        "outputId": "6bf2e163-295c-438d-89d3-a690144cdfd5"
      },
      "execution_count": null,
      "outputs": [
        {
          "output_type": "stream",
          "name": "stdout",
          "text": [
            "apple\n",
            "banana\n",
            "cherry\n"
          ]
        }
      ]
    },
    {
      "cell_type": "code",
      "source": [
        "fruits = [\"apple\", \"banana\", \"cherry\"]\n",
        "for x in fruits:\n",
        "  print(x)\n",
        "  if x == \"banana\":\n",
        "    break"
      ],
      "metadata": {
        "id": "hcfgvHq-4gaW"
      },
      "execution_count": null,
      "outputs": []
    },
    {
      "cell_type": "code",
      "source": [
        "fruits = [\"apple\", \"banana\", \"cherry\"]\n",
        "for x in fruits:\n",
        "  if x == \"banana\":\n",
        "    break\n",
        "  print(x)"
      ],
      "metadata": {
        "id": "7hYnF3kz43Qn"
      },
      "execution_count": null,
      "outputs": []
    },
    {
      "cell_type": "code",
      "source": [
        "fruits = [\"apple\", \"banana\", \"cherry\"]\n",
        "for x in fruits:\n",
        "  if x == \"banana\":\n",
        "    continue\n",
        "  print(x)"
      ],
      "metadata": {
        "id": "0v1I11Am45u7"
      },
      "execution_count": null,
      "outputs": []
    },
    {
      "cell_type": "code",
      "source": [
        "for x in range(6):\n",
        "  print(x)"
      ],
      "metadata": {
        "id": "yY3Iv2uv47uk"
      },
      "execution_count": null,
      "outputs": []
    },
    {
      "cell_type": "code",
      "source": [
        "for x in range(2, 6):\n",
        "  print(x)"
      ],
      "metadata": {
        "id": "UMgVFjDT49s-"
      },
      "execution_count": null,
      "outputs": []
    },
    {
      "cell_type": "code",
      "source": [
        "for x in range(2, 30, 3):\n",
        "  print(x)"
      ],
      "metadata": {
        "id": "xL9xbt4_4_-u"
      },
      "execution_count": null,
      "outputs": []
    },
    {
      "cell_type": "code",
      "source": [
        "for x in range(6):\n",
        "  print(x)\n",
        "else:\n",
        "  print(\"Finally finished!\")"
      ],
      "metadata": {
        "id": "9R9Cou5v5CvU"
      },
      "execution_count": null,
      "outputs": []
    },
    {
      "cell_type": "code",
      "source": [
        "adj = [\"red\", \"big\", \"tasty\"]\n",
        "fruits = [\"apple\", \"banana\", \"cherry\"]\n",
        "\n",
        "for x in adj:\n",
        "  for y in fruits:\n",
        "    print(x, y)"
      ],
      "metadata": {
        "id": "EKsSH6JW5HJW"
      },
      "execution_count": null,
      "outputs": []
    },
    {
      "cell_type": "code",
      "source": [
        "for x in [0, 1, 2]:\n",
        "  pass"
      ],
      "metadata": {
        "id": "kF-ntl9k5JFx"
      },
      "execution_count": null,
      "outputs": []
    },
    {
      "cell_type": "markdown",
      "source": [
        "#Python While Loop"
      ],
      "metadata": {
        "id": "fBu-oKip5Qzv"
      }
    },
    {
      "cell_type": "code",
      "source": [
        "i = 1\n",
        "while i < 6:\n",
        "  print(i)\n",
        "  i += 1"
      ],
      "metadata": {
        "id": "pYUhxhsp5TXz"
      },
      "execution_count": null,
      "outputs": []
    },
    {
      "cell_type": "code",
      "source": [
        "i = 1\n",
        "while i < 6:\n",
        "  print(i)\n",
        "  if i == 3:\n",
        "    break\n",
        "  i += 1"
      ],
      "metadata": {
        "id": "imYKM4w55WBM"
      },
      "execution_count": null,
      "outputs": []
    },
    {
      "cell_type": "code",
      "source": [
        "i = 0\n",
        "while i < 6:\n",
        "  i += 1\n",
        "  if i == 3:\n",
        "    continue\n",
        "  print(i)"
      ],
      "metadata": {
        "id": "LsB4E4lm5YqT"
      },
      "execution_count": null,
      "outputs": []
    },
    {
      "cell_type": "code",
      "source": [
        "i = 1\n",
        "while i < 6:\n",
        "  print(i)\n",
        "  i += 1\n",
        "else:\n",
        "  print(\"i is no longer less than 6\")"
      ],
      "metadata": {
        "id": "cxrZlbUS5ag6"
      },
      "execution_count": null,
      "outputs": []
    },
    {
      "cell_type": "markdown",
      "source": [
        "#Python If Else"
      ],
      "metadata": {
        "id": "dn_w8lQ35dbf"
      }
    },
    {
      "cell_type": "code",
      "source": [
        "a = 33\n",
        "b = 200\n",
        "if b > a:\n",
        "  print(\"b is greater than a\")"
      ],
      "metadata": {
        "id": "vnN1DyJY5for"
      },
      "execution_count": null,
      "outputs": []
    },
    {
      "cell_type": "code",
      "source": [
        "a = 33\n",
        "b = 200\n",
        "if b > a:\n",
        "print(\"b is greater than a\")"
      ],
      "metadata": {
        "id": "K9quxCjV5hy_"
      },
      "execution_count": null,
      "outputs": []
    },
    {
      "cell_type": "code",
      "source": [
        "a = 33\n",
        "b = 33\n",
        "if b > a:\n",
        "  print(\"b is greater than a\")\n",
        "elif a == b:\n",
        "  print(\"a and b are equal\")"
      ],
      "metadata": {
        "id": "CAEOzQZW5jqW"
      },
      "execution_count": null,
      "outputs": []
    },
    {
      "cell_type": "code",
      "source": [
        "a = 200\n",
        "b = 33\n",
        "if b > a:\n",
        "  print(\"b is greater than a\")\n",
        "elif a == b:\n",
        "  print(\"a and b are equal\")\n",
        "else:\n",
        "  print(\"a is greater than b\")"
      ],
      "metadata": {
        "id": "NncwAMfX5lVq"
      },
      "execution_count": null,
      "outputs": []
    },
    {
      "cell_type": "code",
      "source": [
        "a = 200\n",
        "b = 33\n",
        "if b > a:\n",
        "  print(\"b is greater than a\")\n",
        "else:\n",
        "  print(\"b is not greater than a\")"
      ],
      "metadata": {
        "id": "rqN3l5iN5nJz"
      },
      "execution_count": null,
      "outputs": []
    },
    {
      "cell_type": "code",
      "source": [
        "a = 2\n",
        "b = 330\n",
        "print(\"A\") if a > b else print(\"B\")"
      ],
      "metadata": {
        "id": "1ITYXZQK5qzV"
      },
      "execution_count": null,
      "outputs": []
    },
    {
      "cell_type": "markdown",
      "source": [
        "#Python - List Comprehension"
      ],
      "metadata": {
        "id": "6RhXLCA15wZF"
      }
    },
    {
      "cell_type": "code",
      "source": [
        "fruits = [\"apple\", \"banana\", \"cherry\", \"kiwi\", \"mango\"]\n",
        "newlist = []\n",
        "\n",
        "for x in fruits:\n",
        "  if \"a\" in x:\n",
        "    newlist.append(x)\n",
        "\n",
        "print(newlist)"
      ],
      "metadata": {
        "colab": {
          "base_uri": "https://localhost:8080/"
        },
        "id": "ucoBuDb65xBY",
        "outputId": "8d3d309b-f991-482f-d06a-75724e28cb68"
      },
      "execution_count": null,
      "outputs": [
        {
          "output_type": "stream",
          "name": "stdout",
          "text": [
            "['apple', 'banana', 'mango']\n"
          ]
        }
      ]
    },
    {
      "cell_type": "code",
      "source": [
        "fruits = [\"apple\", \"banana\", \"cherry\", \"kiwi\", \"mango\"]\n",
        "\n",
        "newlist = [x for x in fruits if \"a\" in x]\n",
        "\n",
        "print(newlist)"
      ],
      "metadata": {
        "colab": {
          "base_uri": "https://localhost:8080/"
        },
        "id": "JHD4noDX5zdZ",
        "outputId": "19ca7605-963c-4331-b498-728d7eac2ad4"
      },
      "execution_count": null,
      "outputs": [
        {
          "output_type": "stream",
          "name": "stdout",
          "text": [
            "['apple', 'banana', 'mango']\n"
          ]
        }
      ]
    },
    {
      "cell_type": "code",
      "source": [
        "newlist = [x for x in fruits if x != \"apple\"]"
      ],
      "metadata": {
        "id": "1qEBEodT51CX"
      },
      "execution_count": null,
      "outputs": []
    },
    {
      "cell_type": "code",
      "source": [
        "newlist = [x for x in fruits]"
      ],
      "metadata": {
        "id": "GekfBfaa53Km"
      },
      "execution_count": null,
      "outputs": []
    },
    {
      "cell_type": "code",
      "source": [
        "newlist = [x for x in range(10)]"
      ],
      "metadata": {
        "id": "EB4PXIZt54py"
      },
      "execution_count": null,
      "outputs": []
    },
    {
      "cell_type": "code",
      "source": [
        "newlist = [x for x in range(10) if x < 5]"
      ],
      "metadata": {
        "id": "UMljCiQ656EW"
      },
      "execution_count": null,
      "outputs": []
    },
    {
      "cell_type": "code",
      "source": [
        "newlist = [x.upper() for x in fruits]"
      ],
      "metadata": {
        "id": "M_ckCGKo5-Ao"
      },
      "execution_count": null,
      "outputs": []
    },
    {
      "cell_type": "code",
      "source": [
        "newlist = [x.upper() for x in fruits]"
      ],
      "metadata": {
        "id": "z8ix4xjD5_tm"
      },
      "execution_count": null,
      "outputs": []
    },
    {
      "cell_type": "markdown",
      "source": [
        "#Python Dictionary Comprehension"
      ],
      "metadata": {
        "id": "Z9rJ1pZ36OeZ"
      }
    },
    {
      "cell_type": "code",
      "source": [
        "keys = ['a','b','c','d','e']\n",
        "values = [1,2,3,4,5]  \n",
        "  \n",
        "myDict = { k:v for (k,v) in zip(keys, values)}  \n",
        "  \n",
        "print (myDict)"
      ],
      "metadata": {
        "colab": {
          "base_uri": "https://localhost:8080/"
        },
        "id": "XeF_YGGM6MWb",
        "outputId": "94cb985b-e98f-4723-c322-5061fb427422"
      },
      "execution_count": null,
      "outputs": [
        {
          "output_type": "stream",
          "name": "stdout",
          "text": [
            "{'a': 1, 'b': 2, 'c': 3, 'd': 4, 'e': 5}\n"
          ]
        }
      ]
    },
    {
      "cell_type": "code",
      "source": [
        "original_dict = {'jack': 38, 'michael': 48, 'guido': 57, 'john': 33}\n",
        "\n",
        "even_dict = {k: v for (k, v) in original_dict.items() if v % 2 == 0}\n",
        "print(even_dict)"
      ],
      "metadata": {
        "id": "FWt1eqS66Q8E"
      },
      "execution_count": null,
      "outputs": []
    },
    {
      "cell_type": "code",
      "source": [
        "original_dict = {'jack': 38, 'michael': 48, 'guido': 57, 'john': 33}\n",
        "\n",
        "new_dict = {k: v for (k, v) in original_dict.items() if v % 2 != 0 if v < 40}\n",
        "print(new_dict)"
      ],
      "metadata": {
        "id": "XVbwyKv96fxz"
      },
      "execution_count": null,
      "outputs": []
    }
  ]
}